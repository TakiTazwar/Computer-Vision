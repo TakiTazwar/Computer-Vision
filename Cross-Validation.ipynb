{
 "cells": [
  {
   "cell_type": "code",
   "execution_count": 1,
   "metadata": {},
   "outputs": [],
   "source": [
    "import cv2\n",
    "import matplotlib.pyplot as plt\n",
    "import os\n",
    "import numpy as np\n",
    "import random"
   ]
  },
  {
   "cell_type": "markdown",
   "metadata": {},
   "source": [
    "# CREATING CATEGORIES"
   ]
  },
  {
   "cell_type": "code",
   "execution_count": 2,
   "metadata": {},
   "outputs": [],
   "source": [
    "itemList=['airplane','automobile','bird','cat','deer','dog','frog','horse','ship','truck']"
   ]
  },
  {
   "cell_type": "code",
   "execution_count": 3,
   "metadata": {},
   "outputs": [],
   "source": [
    "pictureListName=list()\n",
    "pictureListName=os.listdir(os. getcwd()+\"\\\\train\\\\airplane\")\n",
    "category=list()\n",
    "category.append(\"train\\\\airplane\\\\\")\n",
    "category.append(\"train\\\\automobile\\\\\")\n",
    "category.append(\"train\\\\bird\\\\\")\n",
    "category.append(\"train\\\\cat\\\\\")\n",
    "category.append(\"train\\\\deer\\\\\")\n",
    "category.append(\"train\\\\dog\\\\\")\n",
    "category.append(\"train\\\\frog\\\\\")\n",
    "category.append(\"train\\\\horse\\\\\")\n",
    "category.append(\"train\\\\ship\\\\\")\n",
    "category.append(\"train\\\\truck\\\\\")"
   ]
  },
  {
   "cell_type": "markdown",
   "metadata": {},
   "source": [
    "# UPLOADING DATA"
   ]
  },
  {
   "cell_type": "code",
   "execution_count": 4,
   "metadata": {},
   "outputs": [],
   "source": [
    "pictureList=list()\n",
    "n=0\n",
    "while n<10:\n",
    "    for picture in pictureListName:\n",
    "        img=cv2.imread(category[n]+picture)\n",
    "        img1=[img,n]\n",
    "        img1Array=np.array(img1,dtype=object)\n",
    "        pictureList.append(img1Array)\n",
    "    n+=1"
   ]
  },
  {
   "cell_type": "code",
   "execution_count": 5,
   "metadata": {},
   "outputs": [],
   "source": [
    "pictureListNumpy=np.array(pictureList)\n",
    "np.random.shuffle(pictureListNumpy)"
   ]
  },
  {
   "cell_type": "markdown",
   "metadata": {},
   "source": [
    "# CREATING FOLDS"
   ]
  },
  {
   "cell_type": "code",
   "execution_count": 6,
   "metadata": {},
   "outputs": [],
   "source": [
    "n=0\n",
    "number1=0\n",
    "number2=10000\n",
    "foldList=list()\n",
    "while n<5:\n",
    "    foldList.append(pictureListNumpy[number1:number2])\n",
    "    number1+=10000\n",
    "    number2+=10000\n",
    "    n+=1"
   ]
  },
  {
   "cell_type": "markdown",
   "metadata": {},
   "source": [
    "# CROSS VALIDATION"
   ]
  },
  {
   "cell_type": "markdown",
   "metadata": {},
   "source": [
    "### DIVIDING TRAINING AND VALIDATION"
   ]
  },
  {
   "cell_type": "code",
   "execution_count": 7,
   "metadata": {},
   "outputs": [],
   "source": [
    "selectedIndex=random.randint(0,5)\n",
    "validationFold=foldList[selectedIndex]\n",
    "totalFold=[0,1,2,3,4]\n",
    "totalFold.remove(selectedIndex)"
   ]
  },
  {
   "cell_type": "markdown",
   "metadata": {},
   "source": [
    "### Validating FOLD 1"
   ]
  },
  {
   "cell_type": "code",
   "execution_count": 61,
   "metadata": {},
   "outputs": [],
   "source": [
    "Klist=[0,0,0,0,0,0,0,0,0,0,0,0,0,0,0,0,0,0,0,0]\n",
    "for selectedPicture in validationFold:\n",
    "    l1List=dict()\n",
    "    i=0;\n",
    "    for trainPicture in foldList[0]:\n",
    "        difference=abs(np.sum((selectedPicture[0]-trainPicture[0][0])))\n",
    "        l1List[i]=difference\n",
    "        i+=1\n",
    "    l1SortedList=sorted(l1List.items(),key=lambda x:x[1])\n",
    "    top10L1=list()\n",
    "    i=0\n",
    "    while i<20:\n",
    "        top10L1.append(l1SortedList[i][0])\n",
    "        i+=1\n",
    "    if selectedPicture[1]==foldList[0][top10L1[0]][1]:\n",
    "        for i in range(20):\n",
    "            Klist[i]+=1\n",
    "    if selectedPicture[1]==foldList[0][top10L1[1]][1]:\n",
    "        for i in range(19):\n",
    "            Klist[i+1]+=1\n",
    "    if selectedPicture[1]==foldList[0][top10L1[2]][1]:\n",
    "        for i in range(18):\n",
    "            Klist[i+2]+=1\n",
    "    if selectedPicture[1]==foldList[0][top10L1[3]][1]:\n",
    "        for i in range(17):\n",
    "            Klist[i+3]+=1\n",
    "    if selectedPicture[1]==foldList[0][top10L1[4]][1]:\n",
    "        for i in range(16):\n",
    "            Klist[i+4]+=1\n",
    "    if selectedPicture[1]==foldList[0][top10L1[5]][1]:\n",
    "        for i in range(15):\n",
    "            Klist[i+5]+=1\n",
    "    if selectedPicture[1]==foldList[0][top10L1[6]][1]:\n",
    "        for i in range(14):\n",
    "            Klist[i+6]+=1\n",
    "    if selectedPicture[1]==foldList[0][top10L1[7]][1]:\n",
    "        for i in range(13):\n",
    "            Klist[i+7]+=1\n",
    "    if selectedPicture[1]==foldList[0][top10L1[8]][1]:\n",
    "        for i in range(12):\n",
    "            Klist[i+8]+=1\n",
    "    if selectedPicture[1]==foldList[0][top10L1[9]][1]:\n",
    "        for i in range(11):\n",
    "            Klist[i+9]+=1\n",
    "    if selectedPicture[1]==foldList[0][top10L1[10]][1]:\n",
    "        for i in range(10):\n",
    "            Klist[i+10]+=1\n",
    "    if selectedPicture[1]==foldList[0][top10L1[11]][1]:\n",
    "        for i in range(9):\n",
    "            Klist[i+11]+=1\n",
    "    if selectedPicture[1]==foldList[0][top10L1[12]][1]:\n",
    "        for i in range(8):\n",
    "            Klist[i+12]+=1\n",
    "    if selectedPicture[1]==foldList[0][top10L1[13]][1]:\n",
    "        for i in range(7):\n",
    "            Klist[i+13]+=1\n",
    "    if selectedPicture[1]==foldList[0][top10L1[14]][1]:\n",
    "        for i in range(6):\n",
    "            Klist[i+14]+=1\n",
    "    if selectedPicture[1]==foldList[0][top10L1[15]][1]:\n",
    "        for i in range(5):\n",
    "            Klist[i+15]+=1\n",
    "    if selectedPicture[1]==foldList[0][top10L1[16]][1]:\n",
    "        for i in range(4):\n",
    "            Klist[i+16]+=1\n",
    "    if selectedPicture[1]==foldList[0][top10L1[17]][1]:\n",
    "        for i in range(3):\n",
    "            Klist[i+17]+=1\n",
    "    if selectedPicture[1]==foldList[0][top10L1[18]][1]:\n",
    "        for i in range(2):\n",
    "            Klist[i+18]+=1\n",
    "    if selectedPicture[1]==foldList[0][top10L1[19]][1]:\n",
    "        for i in range(1):\n",
    "            Klist[i+19]+=1"
   ]
  },
  {
   "cell_type": "code",
   "execution_count": 23,
   "metadata": {},
   "outputs": [
    {
     "data": {
      "text/plain": [
       "[1507,\n",
       " 2943,\n",
       " 4429,\n",
       " 5851,\n",
       " 7344,\n",
       " 8746,\n",
       " 10179,\n",
       " 11541,\n",
       " 12861,\n",
       " 14212,\n",
       " 15560,\n",
       " 16920,\n",
       " 18275,\n",
       " 19627,\n",
       " 21006,\n",
       " 22389,\n",
       " 23718,\n",
       " 25098,\n",
       " 26476,\n",
       " 27807]"
      ]
     },
     "execution_count": 23,
     "metadata": {},
     "output_type": "execute_result"
    }
   ],
   "source": [
    "Klist[:20]"
   ]
  },
  {
   "cell_type": "code",
   "execution_count": 62,
   "metadata": {},
   "outputs": [],
   "source": [
    "K1Value=Klist\n",
    "KAccuracy=list()\n",
    "num=10000\n",
    "for a in range(20):\n",
    "    KAccuracy.append(Klist[a]/num*100)\n",
    "    num=num+10000"
   ]
  },
  {
   "cell_type": "code",
   "execution_count": 59,
   "metadata": {},
   "outputs": [
    {
     "data": {
      "text/plain": [
       "[15.06,\n",
       " 15.440000000000001,\n",
       " 15.406666666666666,\n",
       " 15.162500000000001,\n",
       " 15.154,\n",
       " 15.135000000000002,\n",
       " 15.007142857142858,\n",
       " 14.89125,\n",
       " 14.796666666666667,\n",
       " 14.729999999999999,\n",
       " 14.655454545454546,\n",
       " 14.641666666666667,\n",
       " 14.56923076923077,\n",
       " 14.516428571428571,\n",
       " 14.513333333333334,\n",
       " 14.473749999999999,\n",
       " 14.468235294117648,\n",
       " 14.427777777777779,\n",
       " 14.409473684210528,\n",
       " 14.377]"
      ]
     },
     "execution_count": 59,
     "metadata": {},
     "output_type": "execute_result"
    }
   ],
   "source": [
    "KAccuracy"
   ]
  },
  {
   "cell_type": "markdown",
   "metadata": {},
   "source": [
    "### Validating FOLD 2"
   ]
  },
  {
   "cell_type": "code",
   "execution_count": 39,
   "metadata": {},
   "outputs": [],
   "source": [
    "Klist=[0,0,0,0,0,0,0,0,0,0,0,0,0,0,0,0,0,0,0,0]\n",
    "for selectedPicture in validationFold:\n",
    "    l1List=dict()\n",
    "    i=0;\n",
    "    for trainPicture in foldList[1]:\n",
    "        difference=abs(np.sum((selectedPicture[0]-trainPicture[0][0])))\n",
    "        l1List[i]=difference\n",
    "        i+=1\n",
    "    l1SortedList=sorted(l1List.items(),key=lambda x:x[1])\n",
    "    top10L1=list()\n",
    "    i=0\n",
    "    while i<20:\n",
    "        top10L1.append(l1SortedList[i][0])\n",
    "        i+=1\n",
    "    if selectedPicture[1]==foldList[1][top10L1[0]][1]:\n",
    "        for i in range(20):\n",
    "            Klist[i]+=1\n",
    "    if selectedPicture[1]==foldList[1][top10L1[1]][1]:\n",
    "        for i in range(19):\n",
    "            Klist[i+1]+=1\n",
    "    if selectedPicture[1]==foldList[1][top10L1[2]][1]:\n",
    "        for i in range(18):\n",
    "            Klist[i+2]+=1\n",
    "    if selectedPicture[1]==foldList[1][top10L1[3]][1]:\n",
    "        for i in range(17):\n",
    "            Klist[i+3]+=1\n",
    "    if selectedPicture[1]==foldList[1][top10L1[4]][1]:\n",
    "        for i in range(16):\n",
    "            Klist[i+4]+=1\n",
    "    if selectedPicture[1]==foldList[1][top10L1[5]][1]:\n",
    "        for i in range(15):\n",
    "            Klist[i+5]+=1\n",
    "    if selectedPicture[1]==foldList[1][top10L1[6]][1]:\n",
    "        for i in range(14):\n",
    "            Klist[i+6]+=1\n",
    "    if selectedPicture[1]==foldList[1][top10L1[7]][1]:\n",
    "        for i in range(13):\n",
    "            Klist[i+7]+=1\n",
    "    if selectedPicture[1]==foldList[1][top10L1[8]][1]:\n",
    "        for i in range(12):\n",
    "            Klist[i+8]+=1\n",
    "    if selectedPicture[1]==foldList[1][top10L1[9]][1]:\n",
    "        for i in range(11):\n",
    "            Klist[i+9]+=1\n",
    "    if selectedPicture[1]==foldList[1][top10L1[10]][1]:\n",
    "        for i in range(10):\n",
    "            Klist[i+10]+=1\n",
    "    if selectedPicture[1]==foldList[1][top10L1[11]][1]:\n",
    "        for i in range(9):\n",
    "            Klist[i+11]+=1\n",
    "    if selectedPicture[1]==foldList[1][top10L1[12]][1]:\n",
    "        for i in range(8):\n",
    "            Klist[i+12]+=1\n",
    "    if selectedPicture[1]==foldList[1][top10L1[13]][1]:\n",
    "        for i in range(7):\n",
    "            Klist[i+13]+=1\n",
    "    if selectedPicture[1]==foldList[1][top10L1[14]][1]:\n",
    "        for i in range(6):\n",
    "            Klist[i+14]+=1\n",
    "    if selectedPicture[1]==foldList[1][top10L1[15]][1]:\n",
    "        for i in range(5):\n",
    "            Klist[i+15]+=1\n",
    "    if selectedPicture[1]==foldList[1][top10L1[16]][1]:\n",
    "        for i in range(4):\n",
    "            Klist[i+16]+=1\n",
    "    if selectedPicture[1]==foldList[1][top10L1[17]][1]:\n",
    "        for i in range(3):\n",
    "            Klist[i+17]+=1\n",
    "    if selectedPicture[1]==foldList[1][top10L1[18]][1]:\n",
    "        for i in range(2):\n",
    "            Klist[i+18]+=1\n",
    "    if selectedPicture[1]==foldList[1][top10L1[19]][1]:\n",
    "        for i in range(1):\n",
    "            Klist[i+19]+=1"
   ]
  },
  {
   "cell_type": "code",
   "execution_count": 40,
   "metadata": {},
   "outputs": [
    {
     "data": {
      "text/plain": [
       "[1510,\n",
       " 3053,\n",
       " 4578,\n",
       " 6045,\n",
       " 7445,\n",
       " 8874,\n",
       " 10277,\n",
       " 11676,\n",
       " 13095,\n",
       " 14544,\n",
       " 15943,\n",
       " 17415,\n",
       " 18775,\n",
       " 20131,\n",
       " 21522,\n",
       " 22944,\n",
       " 24301,\n",
       " 25679,\n",
       " 27003,\n",
       " 28373]"
      ]
     },
     "execution_count": 40,
     "metadata": {},
     "output_type": "execute_result"
    }
   ],
   "source": [
    "Klist[:20]"
   ]
  },
  {
   "cell_type": "code",
   "execution_count": 64,
   "metadata": {},
   "outputs": [],
   "source": [
    "K2Value=Klist\n",
    "K2Accuracy=list()\n",
    "num=10000\n",
    "for a in range(20):\n",
    "    K2Accuracy.append(Klist[a]/num*100)\n",
    "    num=num+10000"
   ]
  },
  {
   "cell_type": "markdown",
   "metadata": {},
   "source": [
    "### Validating FOLD 4"
   ]
  },
  {
   "cell_type": "code",
   "execution_count": 45,
   "metadata": {},
   "outputs": [],
   "source": [
    "Klist=[0,0,0,0,0,0,0,0,0,0,0,0,0,0,0,0,0,0,0,0]\n",
    "for selectedPicture in validationFold:\n",
    "    l1List=dict()\n",
    "    i=0;\n",
    "    for trainPicture in foldList[3]:\n",
    "        difference=abs(np.sum((selectedPicture[0]-trainPicture[0][0])))\n",
    "        l1List[i]=difference\n",
    "        i+=1\n",
    "    l1SortedList=sorted(l1List.items(),key=lambda x:x[1])\n",
    "    top10L1=list()\n",
    "    i=0\n",
    "    while i<20:\n",
    "        top10L1.append(l1SortedList[i][0])\n",
    "        i+=1\n",
    "    if selectedPicture[1]==foldList[3][top10L1[0]][1]:\n",
    "        for i in range(20):\n",
    "            Klist[i]+=1\n",
    "    if selectedPicture[1]==foldList[3][top10L1[1]][1]:\n",
    "        for i in range(19):\n",
    "            Klist[i+1]+=1\n",
    "    if selectedPicture[1]==foldList[3][top10L1[2]][1]:\n",
    "        for i in range(18):\n",
    "            Klist[i+2]+=1\n",
    "    if selectedPicture[1]==foldList[3][top10L1[3]][1]:\n",
    "        for i in range(17):\n",
    "            Klist[i+3]+=1\n",
    "    if selectedPicture[1]==foldList[3][top10L1[4]][1]:\n",
    "        for i in range(16):\n",
    "            Klist[i+4]+=1\n",
    "    if selectedPicture[1]==foldList[3][top10L1[5]][1]:\n",
    "        for i in range(15):\n",
    "            Klist[i+5]+=1\n",
    "    if selectedPicture[1]==foldList[3][top10L1[6]][1]:\n",
    "        for i in range(14):\n",
    "            Klist[i+6]+=1\n",
    "    if selectedPicture[1]==foldList[3][top10L1[7]][1]:\n",
    "        for i in range(13):\n",
    "            Klist[i+7]+=1\n",
    "    if selectedPicture[1]==foldList[3][top10L1[8]][1]:\n",
    "        for i in range(12):\n",
    "            Klist[i+8]+=1\n",
    "    if selectedPicture[1]==foldList[3][top10L1[9]][1]:\n",
    "        for i in range(11):\n",
    "            Klist[i+9]+=1\n",
    "    if selectedPicture[1]==foldList[3][top10L1[10]][1]:\n",
    "        for i in range(10):\n",
    "            Klist[i+10]+=1\n",
    "    if selectedPicture[1]==foldList[3][top10L1[11]][1]:\n",
    "        for i in range(9):\n",
    "            Klist[i+11]+=1\n",
    "    if selectedPicture[1]==foldList[3][top10L1[12]][1]:\n",
    "        for i in range(8):\n",
    "            Klist[i+12]+=1\n",
    "    if selectedPicture[1]==foldList[3][top10L1[13]][1]:\n",
    "        for i in range(7):\n",
    "            Klist[i+13]+=1\n",
    "    if selectedPicture[1]==foldList[3][top10L1[14]][1]:\n",
    "        for i in range(6):\n",
    "            Klist[i+14]+=1\n",
    "    if selectedPicture[1]==foldList[3][top10L1[15]][1]:\n",
    "        for i in range(5):\n",
    "            Klist[i+15]+=1\n",
    "    if selectedPicture[1]==foldList[3][top10L1[16]][1]:\n",
    "        for i in range(4):\n",
    "            Klist[i+16]+=1\n",
    "    if selectedPicture[1]==foldList[3][top10L1[17]][1]:\n",
    "        for i in range(3):\n",
    "            Klist[i+17]+=1\n",
    "    if selectedPicture[1]==foldList[3][top10L1[18]][1]:\n",
    "        for i in range(2):\n",
    "            Klist[i+18]+=1\n",
    "    if selectedPicture[1]==foldList[3][top10L1[19]][1]:\n",
    "        for i in range(1):\n",
    "            Klist[i+19]+=1"
   ]
  },
  {
   "cell_type": "code",
   "execution_count": 66,
   "metadata": {},
   "outputs": [],
   "source": [
    "K3Value=Klist\n",
    "K3Accuracy=list()\n",
    "num=10000\n",
    "for a in range(20):\n",
    "    K3Accuracy.append(Klist[a]/num*100)\n",
    "    num=num+10000"
   ]
  },
  {
   "cell_type": "markdown",
   "metadata": {},
   "source": [
    "### Validating FOLD 5"
   ]
  },
  {
   "cell_type": "code",
   "execution_count": 49,
   "metadata": {},
   "outputs": [],
   "source": [
    "Klist=[0,0,0,0,0,0,0,0,0,0,0,0,0,0,0,0,0,0,0,0]\n",
    "for selectedPicture in validationFold:\n",
    "    l1List=dict()\n",
    "    i=0;\n",
    "    for trainPicture in foldList[4]:\n",
    "        difference=abs(np.sum((selectedPicture[0]-trainPicture[0][0])))\n",
    "        l1List[i]=difference\n",
    "        i+=1\n",
    "    l1SortedList=sorted(l1List.items(),key=lambda x:x[1])\n",
    "    top10L1=list()\n",
    "    i=0\n",
    "    while i<20:\n",
    "        top10L1.append(l1SortedList[i][0])\n",
    "        i+=1\n",
    "    if selectedPicture[1]==foldList[4][top10L1[0]][1]:\n",
    "        for i in range(20):\n",
    "            Klist[i]+=1\n",
    "    if selectedPicture[1]==foldList[4][top10L1[1]][1]:\n",
    "        for i in range(19):\n",
    "            Klist[i+1]+=1\n",
    "    if selectedPicture[1]==foldList[4][top10L1[2]][1]:\n",
    "        for i in range(18):\n",
    "            Klist[i+2]+=1\n",
    "    if selectedPicture[1]==foldList[4][top10L1[3]][1]:\n",
    "        for i in range(17):\n",
    "            Klist[i+3]+=1\n",
    "    if selectedPicture[1]==foldList[4][top10L1[4]][1]:\n",
    "        for i in range(16):\n",
    "            Klist[i+4]+=1\n",
    "    if selectedPicture[1]==foldList[4][top10L1[5]][1]:\n",
    "        for i in range(15):\n",
    "            Klist[i+5]+=1\n",
    "    if selectedPicture[1]==foldList[4][top10L1[6]][1]:\n",
    "        for i in range(14):\n",
    "            Klist[i+6]+=1\n",
    "    if selectedPicture[1]==foldList[4][top10L1[7]][1]:\n",
    "        for i in range(13):\n",
    "            Klist[i+7]+=1\n",
    "    if selectedPicture[1]==foldList[4][top10L1[8]][1]:\n",
    "        for i in range(12):\n",
    "            Klist[i+8]+=1\n",
    "    if selectedPicture[1]==foldList[4][top10L1[9]][1]:\n",
    "        for i in range(11):\n",
    "            Klist[i+9]+=1\n",
    "    if selectedPicture[1]==foldList[4][top10L1[10]][1]:\n",
    "        for i in range(10):\n",
    "            Klist[i+10]+=1\n",
    "    if selectedPicture[1]==foldList[4][top10L1[11]][1]:\n",
    "        for i in range(9):\n",
    "            Klist[i+11]+=1\n",
    "    if selectedPicture[1]==foldList[4][top10L1[12]][1]:\n",
    "        for i in range(8):\n",
    "            Klist[i+12]+=1\n",
    "    if selectedPicture[1]==foldList[4][top10L1[13]][1]:\n",
    "        for i in range(7):\n",
    "            Klist[i+13]+=1\n",
    "    if selectedPicture[1]==foldList[4][top10L1[14]][1]:\n",
    "        for i in range(6):\n",
    "            Klist[i+14]+=1\n",
    "    if selectedPicture[1]==foldList[4][top10L1[15]][1]:\n",
    "        for i in range(5):\n",
    "            Klist[i+15]+=1\n",
    "    if selectedPicture[1]==foldList[4][top10L1[16]][1]:\n",
    "        for i in range(4):\n",
    "            Klist[i+16]+=1\n",
    "    if selectedPicture[1]==foldList[4][top10L1[17]][1]:\n",
    "        for i in range(3):\n",
    "            Klist[i+17]+=1\n",
    "    if selectedPicture[1]==foldList[4][top10L1[18]][1]:\n",
    "        for i in range(2):\n",
    "            Klist[i+18]+=1\n",
    "    if selectedPicture[1]==foldList[4][top10L1[19]][1]:\n",
    "        for i in range(1):\n",
    "            Klist[i+19]+=1"
   ]
  },
  {
   "cell_type": "code",
   "execution_count": 68,
   "metadata": {},
   "outputs": [],
   "source": [
    "K4Value=Klist\n",
    "K4Accuracy=list()\n",
    "num=10000\n",
    "for a in range(20):\n",
    "    K4Accuracy.append(Klist[a]/num*100)\n",
    "    num=num+10000"
   ]
  },
  {
   "cell_type": "markdown",
   "metadata": {},
   "source": [
    "# FOR ALL FOLD"
   ]
  },
  {
   "cell_type": "code",
   "execution_count": 72,
   "metadata": {},
   "outputs": [
    {
     "data": {
      "text/plain": [
       "Text(0, 0.5, 'Accuracy')"
      ]
     },
     "execution_count": 72,
     "metadata": {},
     "output_type": "execute_result"
    },
    {
     "data": {
      "image/png": "[encoded data removed]",
      "text/plain": [
       "<Figure size 432x288 with 1 Axes>"
      ]
     },
     "metadata": {
      "needs_background": "light"
     },
     "output_type": "display_data"
    }
   ],
   "source": [
    "KAllFold=list()\n",
    "i=0;\n",
    "while i<20:\n",
    "    KAllFold.append((KAccuracy[i]+K2Accuracy[i]+K3Accuracy[i]+K4Accuracy[i])/4)\n",
    "    i+=1\n",
    "plt.plot(KAllFold)\n",
    "plt.title(\"Cross-Validation\")\n",
    "plt.xlabel(\"K\")\n",
    "plt.ylabel(\"Accuracy\")"
   ]
  },
  {
   "cell_type": "code",
   "execution_count": 57,
   "metadata": {},
   "outputs": [
    {
     "data": {
      "text/plain": [
       "10"
      ]
     },
     "execution_count": 57,
     "metadata": {},
     "output_type": "execute_result"
    }
   ],
   "source": [
    "len(KAccuracy)"
   ]
  },
  {
   "cell_type": "code",
   "execution_count": null,
   "metadata": {},
   "outputs": [],
   "source": []
  }
 ],
 "metadata": {
  "kernelspec": {
   "display_name": "Python 3",
   "language": "python",
   "name": "python3"
  },
  "language_info": {
   "codemirror_mode": {
    "name": "ipython",
    "version": 3
   },
   "file_extension": ".py",
   "mimetype": "text/x-python",
   "name": "python",
   "nbconvert_exporter": "python",
   "pygments_lexer": "ipython3",
   "version": "3.8.5"
  }
 },
 "nbformat": 4,
 "nbformat_minor": 4
}
