{
 "cells": [
  {
   "cell_type": "code",
   "execution_count": 2,
   "metadata": {
    "colab": {
     "base_uri": "https://localhost:8080/",
     "height": 34
    },
    "colab_type": "code",
    "id": "csslgo_txpBn",
    "outputId": "861172c4-4341-4429-89a8-2f01e9e5bc4b"
   },
   "outputs": [
    {
     "name": "stdout",
     "output_type": "stream",
     "text": [
      "2.3.0\n"
     ]
    }
   ],
   "source": [
    "import tensorflow as tf\n",
    "from tensorflow import keras\n",
    "\n",
    "import os\n",
    "import cv2\n",
    "import numpy as np\n",
    "import matplotlib.pyplot as plt\n",
    "\n",
    "from tensorflow.keras.models import Sequential\n",
    "from tensorflow.keras.layers import Conv2D, MaxPooling2D, Dense, Flatten, Dropout,Activation\n",
    "from tensorflow.keras.optimizers import Adam\n",
    "from tensorflow.keras.callbacks import TensorBoard\n",
    "\n",
    "from sklearn.model_selection import train_test_split\n",
    "import time\n",
    "print(tf.__version__)"
   ]
  },
  {
   "cell_type": "markdown",
   "metadata": {},
   "source": [
    "# MNIST Fashion Dataset\n",
    "Train:60,000 <br>\n",
    "Test:10,000"
   ]
  },
  {
   "cell_type": "code",
   "execution_count": 27,
   "metadata": {
    "colab": {},
    "colab_type": "code",
    "id": "Z35Ax0uwxxbN"
   },
   "outputs": [],
   "source": [
    "fashion_mnist = keras.datasets.fashion_mnist\n",
    "\n",
    "(x_train, y_train ), (x_test, y_test) = fashion_mnist.load_data()\n",
    "\n",
    "x_train = x_train / 255\n",
    "\n",
    "x_test = x_test / 255"
   ]
  },
  {
   "cell_type": "code",
   "execution_count": 28,
   "metadata": {},
   "outputs": [
    {
     "data": {
      "text/plain": [
       "<matplotlib.image.AxesImage at 0x1fc263e6af0>"
      ]
     },
     "execution_count": 28,
     "metadata": {},
     "output_type": "execute_result"
    },
    {
     "data": {
      "image/png": "[encoded data removed]",
      "text/plain": [
       "<Figure size 432x288 with 1 Axes>"
      ]
     },
     "metadata": {
      "needs_background": "light"
     },
     "output_type": "display_data"
    }
   ],
   "source": [
    "plt.imshow(x_train[0],cmap=\"gray\")"
   ]
  },
  {
   "cell_type": "code",
   "execution_count": 29,
   "metadata": {
    "colab": {
     "base_uri": "https://localhost:8080/",
     "height": 51
    },
    "colab_type": "code",
    "id": "oiYuXeEPx-Qz",
    "outputId": "071b7f5a-62e4-43e8-d90d-88aedafdadb5"
   },
   "outputs": [
    {
     "name": "stdout",
     "output_type": "stream",
     "text": [
      "x_train shape: (60000, 28, 28, 1)\n",
      "x_test shape: (10000, 28, 28, 1)\n"
     ]
    }
   ],
   "source": [
    "im_rows = 28\n",
    "im_cols = 28\n",
    "batch_size = 512\n",
    "im_shape = (im_rows, im_cols, 1)\n",
    "\n",
    "x_train = x_train.reshape(x_train.shape[0], *im_shape)\n",
    "x_test = x_test.reshape(x_test.shape[0], *im_shape)\n",
    "#x_validate = x_validate.reshape(x_validate.shape[0], *im_shape)\n",
    "\n",
    "print('x_train shape: {}'.format(x_train.shape))\n",
    "print('x_test shape: {}'.format(x_test.shape))\n",
    "#print('x_validate shape: {}'.format(x_validate.shape))"
   ]
  },
  {
   "cell_type": "markdown",
   "metadata": {
    "colab_type": "text",
    "id": "ynBge2lPImSf"
   },
   "source": [
    "# MNIST FASHION TUNING"
   ]
  },
  {
   "cell_type": "code",
   "execution_count": 30,
   "metadata": {},
   "outputs": [],
   "source": [
    "neuron_num=[32,64]\n",
    "conv_layer=[1,2]\n",
    "dense_layer=[0,1,2]"
   ]
  },
  {
   "cell_type": "code",
   "execution_count": 61,
   "metadata": {},
   "outputs": [
    {
     "name": "stdout",
     "output_type": "stream",
     "text": [
      "Epoch 1/10\n",
      "  2/188 [..............................] - ETA: 56s - loss: 2.3130 - accuracy: 0.1113WARNING:tensorflow:Callbacks method `on_train_batch_end` is slow compared to the batch time (batch time: 0.1210s vs `on_train_batch_end` time: 0.4852s). Check your callbacks.\n",
      "188/188 [==============================] - 22s 117ms/step - loss: 0.8663 - accuracy: 0.7032 - val_loss: 0.5538 - val_accuracy: 0.7956\n",
      "Epoch 2/10\n",
      "188/188 [==============================] - 19s 102ms/step - loss: 0.5046 - accuracy: 0.8159 - val_loss: 0.4719 - val_accuracy: 0.8276\n",
      "Epoch 3/10\n",
      "188/188 [==============================] - 19s 102ms/step - loss: 0.4530 - accuracy: 0.8364 - val_loss: 0.4324 - val_accuracy: 0.8481\n",
      "Epoch 4/10\n",
      "188/188 [==============================] - 19s 102ms/step - loss: 0.4193 - accuracy: 0.8486 - val_loss: 0.4016 - val_accuracy: 0.8610\n",
      "Epoch 5/10\n",
      "188/188 [==============================] - 19s 102ms/step - loss: 0.3970 - accuracy: 0.8577 - val_loss: 0.3901 - val_accuracy: 0.8598\n",
      "Epoch 6/10\n",
      "188/188 [==============================] - 19s 102ms/step - loss: 0.3758 - accuracy: 0.8644 - val_loss: 0.3732 - val_accuracy: 0.8707\n",
      "Epoch 7/10\n",
      "188/188 [==============================] - 19s 103ms/step - loss: 0.3627 - accuracy: 0.8696 - val_loss: 0.3550 - val_accuracy: 0.8767\n",
      "Epoch 8/10\n",
      "188/188 [==============================] - 19s 103ms/step - loss: 0.3531 - accuracy: 0.8741 - val_loss: 0.3435 - val_accuracy: 0.8785\n",
      "Epoch 9/10\n",
      "188/188 [==============================] - 19s 101ms/step - loss: 0.3391 - accuracy: 0.8783 - val_loss: 0.3440 - val_accuracy: 0.8786\n",
      "Epoch 10/10\n",
      "188/188 [==============================] - 20s 107ms/step - loss: 0.3337 - accuracy: 0.8817 - val_loss: 0.3433 - val_accuracy: 0.8787\n",
      "Epoch 1/10\n",
      "  2/188 [..............................] - ETA: 1:01 - loss: 2.3079 - accuracy: 0.0996WARNING:tensorflow:Callbacks method `on_train_batch_end` is slow compared to the batch time (batch time: 0.1240s vs `on_train_batch_end` time: 0.5370s). Check your callbacks.\n",
      "188/188 [==============================] - 22s 117ms/step - loss: 1.0263 - accuracy: 0.6459 - val_loss: 0.6319 - val_accuracy: 0.7672\n",
      "Epoch 2/10\n",
      "188/188 [==============================] - 21s 114ms/step - loss: 0.6013 - accuracy: 0.7811 - val_loss: 0.5563 - val_accuracy: 0.7982\n",
      "Epoch 3/10\n",
      "188/188 [==============================] - 22s 117ms/step - loss: 0.5349 - accuracy: 0.8068 - val_loss: 0.5230 - val_accuracy: 0.8131\n",
      "Epoch 4/10\n",
      "188/188 [==============================] - 21s 113ms/step - loss: 0.5016 - accuracy: 0.8187 - val_loss: 0.4916 - val_accuracy: 0.8266\n",
      "Epoch 5/10\n",
      "188/188 [==============================] - 21s 114ms/step - loss: 0.4719 - accuracy: 0.8311 - val_loss: 0.4659 - val_accuracy: 0.8341\n",
      "Epoch 6/10\n",
      "188/188 [==============================] - 21s 110ms/step - loss: 0.4507 - accuracy: 0.8381 - val_loss: 0.4426 - val_accuracy: 0.8412\n",
      "Epoch 7/10\n",
      "188/188 [==============================] - 20s 106ms/step - loss: 0.4403 - accuracy: 0.8417 - val_loss: 0.4341 - val_accuracy: 0.8458\n",
      "Epoch 8/10\n",
      "188/188 [==============================] - 20s 104ms/step - loss: 0.4252 - accuracy: 0.8465 - val_loss: 0.4150 - val_accuracy: 0.8502\n",
      "Epoch 9/10\n",
      "188/188 [==============================] - 20s 107ms/step - loss: 0.4124 - accuracy: 0.8511 - val_loss: 0.4061 - val_accuracy: 0.8567\n",
      "Epoch 10/10\n",
      "188/188 [==============================] - 20s 108ms/step - loss: 0.4016 - accuracy: 0.8557 - val_loss: 0.4138 - val_accuracy: 0.8499\n",
      "Epoch 1/10\n",
      "  2/188 [..............................] - ETA: 57s - loss: 2.2727 - accuracy: 0.1152WARNING:tensorflow:Callbacks method `on_train_batch_end` is slow compared to the batch time (batch time: 0.1825s vs `on_train_batch_end` time: 0.4353s). Check your callbacks.\n",
      "188/188 [==============================] - 38s 205ms/step - loss: 0.7503 - accuracy: 0.7326 - val_loss: 0.5063 - val_accuracy: 0.8158\n",
      "Epoch 2/10\n",
      "188/188 [==============================] - 38s 201ms/step - loss: 0.4568 - accuracy: 0.8335 - val_loss: 0.4113 - val_accuracy: 0.8564\n",
      "Epoch 3/10\n",
      "188/188 [==============================] - 39s 207ms/step - loss: 0.3970 - accuracy: 0.8591 - val_loss: 0.3825 - val_accuracy: 0.8664\n",
      "Epoch 4/10\n",
      "188/188 [==============================] - 40s 213ms/step - loss: 0.3624 - accuracy: 0.8710 - val_loss: 0.3653 - val_accuracy: 0.8677\n",
      "Epoch 5/10\n",
      "188/188 [==============================] - 40s 210ms/step - loss: 0.3406 - accuracy: 0.8786 - val_loss: 0.3403 - val_accuracy: 0.8789\n",
      "Epoch 6/10\n",
      "188/188 [==============================] - 45s 240ms/step - loss: 0.3231 - accuracy: 0.8839 - val_loss: 0.3188 - val_accuracy: 0.8863\n",
      "Epoch 7/10\n",
      "188/188 [==============================] - 44s 233ms/step - loss: 0.3098 - accuracy: 0.8880 - val_loss: 0.3180 - val_accuracy: 0.8878\n",
      "Epoch 8/10\n",
      "188/188 [==============================] - 41s 216ms/step - loss: 0.2972 - accuracy: 0.8941 - val_loss: 0.3123 - val_accuracy: 0.8866\n",
      "Epoch 9/10\n",
      "188/188 [==============================] - 42s 222ms/step - loss: 0.2858 - accuracy: 0.8982 - val_loss: 0.3021 - val_accuracy: 0.8902\n",
      "Epoch 10/10\n",
      "188/188 [==============================] - 41s 218ms/step - loss: 0.2771 - accuracy: 0.9003 - val_loss: 0.2946 - val_accuracy: 0.8938\n",
      "Epoch 1/10\n",
      "  2/188 [..............................] - ETA: 1:11 - loss: 2.2835 - accuracy: 0.1270WARNING:tensorflow:Callbacks method `on_train_batch_end` is slow compared to the batch time (batch time: 0.2206s vs `on_train_batch_end` time: 0.5456s). Check your callbacks.\n",
      "188/188 [==============================] - 44s 234ms/step - loss: 0.8759 - accuracy: 0.6801 - val_loss: 0.6011 - val_accuracy: 0.7777\n",
      "Epoch 2/10\n",
      "188/188 [==============================] - 41s 220ms/step - loss: 0.5539 - accuracy: 0.7993 - val_loss: 0.5107 - val_accuracy: 0.8135\n",
      "Epoch 3/10\n",
      "188/188 [==============================] - 44s 234ms/step - loss: 0.4864 - accuracy: 0.8245 - val_loss: 0.4577 - val_accuracy: 0.8353\n",
      "Epoch 4/10\n",
      "188/188 [==============================] - 46s 245ms/step - loss: 0.4457 - accuracy: 0.8413 - val_loss: 0.4314 - val_accuracy: 0.8435\n",
      "Epoch 5/10\n",
      "188/188 [==============================] - 42s 224ms/step - loss: 0.4118 - accuracy: 0.8527 - val_loss: 0.4117 - val_accuracy: 0.8505\n",
      "Epoch 6/10\n",
      "188/188 [==============================] - 40s 210ms/step - loss: 0.3909 - accuracy: 0.8590 - val_loss: 0.3887 - val_accuracy: 0.8613\n",
      "Epoch 7/10\n",
      "188/188 [==============================] - 40s 212ms/step - loss: 0.3685 - accuracy: 0.8673 - val_loss: 0.3759 - val_accuracy: 0.8632\n",
      "Epoch 8/10\n",
      "188/188 [==============================] - 39s 208ms/step - loss: 0.3531 - accuracy: 0.8713 - val_loss: 0.3630 - val_accuracy: 0.8687\n",
      "Epoch 9/10\n",
      "188/188 [==============================] - 39s 207ms/step - loss: 0.3397 - accuracy: 0.8764 - val_loss: 0.3553 - val_accuracy: 0.8706\n",
      "Epoch 10/10\n",
      "188/188 [==============================] - 39s 210ms/step - loss: 0.3241 - accuracy: 0.8825 - val_loss: 0.3379 - val_accuracy: 0.8757\n",
      "Epoch 1/10\n",
      "  2/188 [..............................] - ETA: 52s - loss: 2.2779 - accuracy: 0.1367WARNING:tensorflow:Callbacks method `on_train_batch_end` is slow compared to the batch time (batch time: 0.0859s vs `on_train_batch_end` time: 0.4744s). Check your callbacks.\n",
      "188/188 [==============================] - 20s 106ms/step - loss: 0.7950 - accuracy: 0.7097 - val_loss: 0.5030 - val_accuracy: 0.8141\n",
      "Epoch 2/10\n",
      "188/188 [==============================] - 20s 104ms/step - loss: 0.4633 - accuracy: 0.8320 - val_loss: 0.4109 - val_accuracy: 0.8536\n",
      "Epoch 3/10\n",
      "188/188 [==============================] - 20s 108ms/step - loss: 0.4035 - accuracy: 0.8555 - val_loss: 0.3955 - val_accuracy: 0.8599\n",
      "Epoch 4/10\n",
      "188/188 [==============================] - 22s 118ms/step - loss: 0.3731 - accuracy: 0.8675 - val_loss: 0.3642 - val_accuracy: 0.8679\n",
      "Epoch 5/10\n",
      "188/188 [==============================] - 21s 110ms/step - loss: 0.3528 - accuracy: 0.8734 - val_loss: 0.3352 - val_accuracy: 0.8797\n",
      "Epoch 6/10\n",
      "188/188 [==============================] - 20s 107ms/step - loss: 0.3390 - accuracy: 0.8776 - val_loss: 0.3276 - val_accuracy: 0.8823\n",
      "Epoch 7/10\n",
      "188/188 [==============================] - 20s 108ms/step - loss: 0.3237 - accuracy: 0.8847 - val_loss: 0.3199 - val_accuracy: 0.8848\n",
      "Epoch 8/10\n",
      "188/188 [==============================] - 20s 108ms/step - loss: 0.3151 - accuracy: 0.8860 - val_loss: 0.3105 - val_accuracy: 0.8868\n",
      "Epoch 9/10\n",
      "188/188 [==============================] - 21s 111ms/step - loss: 0.3035 - accuracy: 0.8902 - val_loss: 0.2997 - val_accuracy: 0.8919\n",
      "Epoch 10/10\n",
      "188/188 [==============================] - 20s 109ms/step - loss: 0.2950 - accuracy: 0.8932 - val_loss: 0.3004 - val_accuracy: 0.8891\n",
      "Epoch 1/10\n",
      "  2/188 [..............................] - ETA: 51s - loss: 2.2969 - accuracy: 0.1328WARNING:tensorflow:Callbacks method `on_train_batch_end` is slow compared to the batch time (batch time: 0.0898s vs `on_train_batch_end` time: 0.4618s). Check your callbacks.\n",
      "188/188 [==============================] - 22s 119ms/step - loss: 1.0131 - accuracy: 0.6355 - val_loss: 0.6751 - val_accuracy: 0.7462\n",
      "Epoch 2/10\n",
      "188/188 [==============================] - 20s 107ms/step - loss: 0.6194 - accuracy: 0.7695 - val_loss: 0.5729 - val_accuracy: 0.7842\n",
      "Epoch 3/10\n",
      "188/188 [==============================] - 21s 111ms/step - loss: 0.5467 - accuracy: 0.7997 - val_loss: 0.5019 - val_accuracy: 0.8190\n",
      "Epoch 4/10\n",
      "188/188 [==============================] - 20s 107ms/step - loss: 0.4956 - accuracy: 0.8171 - val_loss: 0.4662 - val_accuracy: 0.8315\n",
      "Epoch 5/10\n",
      "188/188 [==============================] - 21s 112ms/step - loss: 0.4640 - accuracy: 0.8308 - val_loss: 0.4499 - val_accuracy: 0.8355\n",
      "Epoch 6/10\n",
      "188/188 [==============================] - 21s 110ms/step - loss: 0.4347 - accuracy: 0.8433 - val_loss: 0.4221 - val_accuracy: 0.8465\n",
      "Epoch 7/10\n",
      "188/188 [==============================] - 21s 110ms/step - loss: 0.4190 - accuracy: 0.8469 - val_loss: 0.4033 - val_accuracy: 0.8547\n",
      "Epoch 8/10\n",
      "188/188 [==============================] - 21s 112ms/step - loss: 0.4015 - accuracy: 0.8535 - val_loss: 0.3854 - val_accuracy: 0.8609\n",
      "Epoch 9/10\n",
      "188/188 [==============================] - 20s 105ms/step - loss: 0.3899 - accuracy: 0.8593 - val_loss: 0.3835 - val_accuracy: 0.8602\n",
      "Epoch 10/10\n",
      "188/188 [==============================] - 20s 104ms/step - loss: 0.3770 - accuracy: 0.8639 - val_loss: 0.3703 - val_accuracy: 0.8651\n",
      "Epoch 1/10\n",
      "  2/188 [..............................] - ETA: 1:03 - loss: 2.2860 - accuracy: 0.1660WARNING:tensorflow:Callbacks method `on_train_batch_end` is slow compared to the batch time (batch time: 0.1845s vs `on_train_batch_end` time: 0.5007s). Check your callbacks.\n",
      "188/188 [==============================] - 39s 206ms/step - loss: 0.6685 - accuracy: 0.7546 - val_loss: 0.4516 - val_accuracy: 0.8358\n",
      "Epoch 2/10\n",
      "188/188 [==============================] - 40s 213ms/step - loss: 0.4140 - accuracy: 0.8520 - val_loss: 0.3999 - val_accuracy: 0.8553\n",
      "Epoch 3/10\n",
      "188/188 [==============================] - 41s 218ms/step - loss: 0.3536 - accuracy: 0.8740 - val_loss: 0.3315 - val_accuracy: 0.8823\n",
      "Epoch 4/10\n",
      "188/188 [==============================] - 46s 245ms/step - loss: 0.3258 - accuracy: 0.8824 - val_loss: 0.3612 - val_accuracy: 0.8663\n",
      "Epoch 5/10\n",
      "188/188 [==============================] - 42s 224ms/step - loss: 0.3059 - accuracy: 0.8899 - val_loss: 0.3035 - val_accuracy: 0.8899\n",
      "Epoch 6/10\n",
      "188/188 [==============================] - 48s 253ms/step - loss: 0.2851 - accuracy: 0.8965 - val_loss: 0.2906 - val_accuracy: 0.8953\n",
      "Epoch 7/10\n",
      "188/188 [==============================] - 45s 240ms/step - loss: 0.2708 - accuracy: 0.9036 - val_loss: 0.2877 - val_accuracy: 0.8970\n",
      "Epoch 8/10\n",
      "188/188 [==============================] - 45s 241ms/step - loss: 0.2599 - accuracy: 0.9062 - val_loss: 0.2729 - val_accuracy: 0.9014\n",
      "Epoch 9/10\n",
      "188/188 [==============================] - 44s 236ms/step - loss: 0.2490 - accuracy: 0.9096 - val_loss: 0.2695 - val_accuracy: 0.9014\n",
      "Epoch 10/10\n",
      "188/188 [==============================] - 46s 243ms/step - loss: 0.2408 - accuracy: 0.9133 - val_loss: 0.2637 - val_accuracy: 0.9042\n",
      "Epoch 1/10\n",
      "  2/188 [..............................] - ETA: 1:20 - loss: 2.3066 - accuracy: 0.1172WARNING:tensorflow:Callbacks method `on_train_batch_end` is slow compared to the batch time (batch time: 0.2460s vs `on_train_batch_end` time: 0.6217s). Check your callbacks.\n",
      "188/188 [==============================] - 46s 243ms/step - loss: 0.8314 - accuracy: 0.6968 - val_loss: 0.6001 - val_accuracy: 0.7828\n",
      "Epoch 2/10\n",
      "188/188 [==============================] - 48s 253ms/step - loss: 0.5292 - accuracy: 0.8078 - val_loss: 0.4863 - val_accuracy: 0.8251\n",
      "Epoch 3/10\n",
      "188/188 [==============================] - 42s 223ms/step - loss: 0.4565 - accuracy: 0.8360 - val_loss: 0.4360 - val_accuracy: 0.8386\n",
      "Epoch 4/10\n",
      "188/188 [==============================] - 43s 227ms/step - loss: 0.4139 - accuracy: 0.8484 - val_loss: 0.4008 - val_accuracy: 0.8550\n",
      "Epoch 5/10\n",
      "188/188 [==============================] - 42s 223ms/step - loss: 0.3815 - accuracy: 0.8608 - val_loss: 0.3741 - val_accuracy: 0.8639\n",
      "Epoch 6/10\n",
      "188/188 [==============================] - 42s 223ms/step - loss: 0.3640 - accuracy: 0.8665 - val_loss: 0.3712 - val_accuracy: 0.8647\n",
      "Epoch 7/10\n",
      "188/188 [==============================] - 46s 246ms/step - loss: 0.3409 - accuracy: 0.8755 - val_loss: 0.3444 - val_accuracy: 0.8730\n",
      "Epoch 8/10\n",
      "188/188 [==============================] - 44s 235ms/step - loss: 0.3298 - accuracy: 0.8789 - val_loss: 0.3415 - val_accuracy: 0.8747\n",
      "Epoch 9/10\n",
      "188/188 [==============================] - 46s 244ms/step - loss: 0.3165 - accuracy: 0.8844 - val_loss: 0.3312 - val_accuracy: 0.8776\n",
      "Epoch 10/10\n",
      "188/188 [==============================] - 46s 243ms/step - loss: 0.2964 - accuracy: 0.8899 - val_loss: 0.3188 - val_accuracy: 0.8815\n"
     ]
    }
   ],
   "source": [
    "for d in dense_layer:\n",
    "    for n in neuron_num:\n",
    "        for c in conv_layer:\n",
    "            name=\"Project-Tuning-conv-{}-dense--{}neuron-{}-{}\".format(c,d,n,int(time.time()))\n",
    "            model=Sequential()\n",
    "            model.add(Conv2D(filters=n, kernel_size=(3,3), input_shape=im_shape))\n",
    "            model.add(Activation('relu'))\n",
    "            model.add(MaxPooling2D(pool_size=(2,2)))\n",
    "            model.add(Dropout(0.2))\n",
    "            for nothing in range(c):\n",
    "                model.add(Conv2D(n,(3,3)))\n",
    "                model.add(Activation('relu'))\n",
    "                model.add(MaxPooling2D(pool_size=(2,2)))\n",
    "            model.add(Flatten())\n",
    "            for nothing in range(d):\n",
    "                model.add(Dense(n))\n",
    "            model.add(Dense(10, activation='softmax'))\n",
    "            tensorboard= TensorBoard(log_dir=\"logs\\{}\".format(name))\n",
    "            model.compile(loss='sparse_categorical_crossentropy',optimizer=\"Adam\",metrics=['accuracy'])\n",
    "            model.fit(x_train,y_train,epochs=10,batch_size=256,validation_split=0.2,callbacks=[tensorboard])\n"
   ]
  },
  {
   "cell_type": "code",
   "execution_count": 1,
   "metadata": {},
   "outputs": [
    {
     "data": {
      "text/plain": [
       "Reusing TensorBoard on port 6006 (pid 11408), started 2 days, 10:26:15 ago. (Use '!kill 11408' to kill it.)"
      ]
     },
     "metadata": {},
     "output_type": "display_data"
    },
    {
     "data": {
      "text/html": [
       "\n",
       "      <iframe id=\"tensorboard-frame-cecaf7daec8bb0c1\" width=\"100%\" height=\"800\" frameborder=\"0\">\n",
       "      </iframe>\n",
       "      <script>\n",
       "        (function() {\n",
       "          const frame = document.getElementById(\"tensorboard-frame-cecaf7daec8bb0c1\");\n",
       "          const url = new URL(\"/\", window.location);\n",
       "          const port = 6006;\n",
       "          if (port) {\n",
       "            url.port = port;\n",
       "          }\n",
       "          frame.src = url;\n",
       "        })();\n",
       "      </script>\n",
       "    "
      ],
      "text/plain": [
       "<IPython.core.display.HTML object>"
      ]
     },
     "metadata": {},
     "output_type": "display_data"
    }
   ],
   "source": [
    "%load_ext tensorboard\n",
    "%tensorboard --logdir logs"
   ]
  },
  {
   "cell_type": "markdown",
   "metadata": {},
   "source": [
    "<font size=\"5px\">Best EPOCH LOSS 1.conv1,dense2,neuron 64  2.conv1,dense 0,neuron 64  3.conv1,dense 2,neuron 32<br>\n",
    "Best Epoch Accuracy 1.conv1,dense2,neuron 64   2.conv1,dense0,neuron 64  3.conv1,dense0,neuron 32</font>"
   ]
  },
  {
   "cell_type": "markdown",
   "metadata": {},
   "source": [
    "# Tuning part 2"
   ]
  },
  {
   "cell_type": "code",
   "execution_count": 12,
   "metadata": {},
   "outputs": [],
   "source": [
    "neuron_num=[32,64,128]\n",
    "conv_layer=[1]\n",
    "dense_layer=[0,2,3,4]"
   ]
  },
  {
   "cell_type": "code",
   "execution_count": 13,
   "metadata": {},
   "outputs": [
    {
     "name": "stdout",
     "output_type": "stream",
     "text": [
      "Epoch 1/10\n",
      "  2/150 [..............................] - ETA: 21s - loss: 2.2873 - accuracy: 0.1055WARNING:tensorflow:Callbacks method `on_train_batch_end` is slow compared to the batch time (batch time: 0.0859s vs `on_train_batch_end` time: 0.2036s). Check your callbacks.\n",
      "150/150 [==============================] - 15s 103ms/step - loss: 0.9331 - accuracy: 0.6717 - val_loss: 0.5922 - val_accuracy: 0.7784\n",
      "Epoch 2/10\n",
      "150/150 [==============================] - 14s 93ms/step - loss: 0.5422 - accuracy: 0.7998 - val_loss: 0.4952 - val_accuracy: 0.8195\n",
      "Epoch 3/10\n",
      "150/150 [==============================] - 14s 95ms/step - loss: 0.4779 - accuracy: 0.8251 - val_loss: 0.4588 - val_accuracy: 0.8368\n",
      "Epoch 4/10\n",
      "150/150 [==============================] - 15s 99ms/step - loss: 0.4491 - accuracy: 0.8376 - val_loss: 0.4290 - val_accuracy: 0.8479\n",
      "Epoch 5/10\n",
      "150/150 [==============================] - 15s 98ms/step - loss: 0.4231 - accuracy: 0.8488 - val_loss: 0.4129 - val_accuracy: 0.8524\n",
      "Epoch 6/10\n",
      "150/150 [==============================] - 14s 94ms/step - loss: 0.4058 - accuracy: 0.8543 - val_loss: 0.4021 - val_accuracy: 0.8580\n",
      "Epoch 7/10\n",
      "150/150 [==============================] - 14s 96ms/step - loss: 0.3914 - accuracy: 0.8598 - val_loss: 0.3943 - val_accuracy: 0.8582\n",
      "Epoch 8/10\n",
      "150/150 [==============================] - 14s 94ms/step - loss: 0.3795 - accuracy: 0.8632 - val_loss: 0.3823 - val_accuracy: 0.8662\n",
      "Epoch 9/10\n",
      "150/150 [==============================] - 15s 98ms/step - loss: 0.3674 - accuracy: 0.8684 - val_loss: 0.3639 - val_accuracy: 0.8712\n",
      "Epoch 10/10\n",
      "150/150 [==============================] - 16s 103ms/step - loss: 0.3583 - accuracy: 0.8703 - val_loss: 0.3558 - val_accuracy: 0.8720\n",
      "Epoch 1/10\n",
      "  2/150 [..............................] - ETA: 35s - loss: 2.2888 - accuracy: 0.1660WARNING:tensorflow:Callbacks method `on_train_batch_end` is slow compared to the batch time (batch time: 0.1718s vs `on_train_batch_end` time: 0.3092s). Check your callbacks.\n",
      "150/150 [==============================] - 30s 198ms/step - loss: 0.8285 - accuracy: 0.7084 - val_loss: 0.5238 - val_accuracy: 0.8115\n",
      "Epoch 2/10\n",
      "150/150 [==============================] - 29s 195ms/step - loss: 0.4886 - accuracy: 0.8227 - val_loss: 0.4625 - val_accuracy: 0.8320\n",
      "Epoch 3/10\n",
      "150/150 [==============================] - 28s 188ms/step - loss: 0.4226 - accuracy: 0.8510 - val_loss: 0.4124 - val_accuracy: 0.8559\n",
      "Epoch 4/10\n",
      "150/150 [==============================] - 29s 194ms/step - loss: 0.3867 - accuracy: 0.8622 - val_loss: 0.3774 - val_accuracy: 0.8682\n",
      "Epoch 5/10\n",
      "150/150 [==============================] - 27s 182ms/step - loss: 0.3581 - accuracy: 0.8735 - val_loss: 0.3609 - val_accuracy: 0.8735\n",
      "Epoch 6/10\n",
      "150/150 [==============================] - 28s 187ms/step - loss: 0.3439 - accuracy: 0.8773 - val_loss: 0.3469 - val_accuracy: 0.8792\n",
      "Epoch 7/10\n",
      "150/150 [==============================] - 27s 183ms/step - loss: 0.3271 - accuracy: 0.8823 - val_loss: 0.3416 - val_accuracy: 0.8819\n",
      "Epoch 8/10\n",
      "150/150 [==============================] - 29s 191ms/step - loss: 0.3148 - accuracy: 0.8864 - val_loss: 0.3511 - val_accuracy: 0.8735\n",
      "Epoch 9/10\n",
      "150/150 [==============================] - 30s 197ms/step - loss: 0.3034 - accuracy: 0.8914 - val_loss: 0.3228 - val_accuracy: 0.8897\n",
      "Epoch 10/10\n",
      "150/150 [==============================] - 32s 210ms/step - loss: 0.2953 - accuracy: 0.8942 - val_loss: 0.3168 - val_accuracy: 0.8891\n",
      "Epoch 1/10\n",
      "150/150 [==============================] - 69s 458ms/step - loss: 0.7236 - accuracy: 0.7410 - val_loss: 0.4799 - val_accuracy: 0.8203\n",
      "Epoch 2/10\n",
      "150/150 [==============================] - 65s 436ms/step - loss: 0.4334 - accuracy: 0.8447 - val_loss: 0.4001 - val_accuracy: 0.8553\n",
      "Epoch 3/10\n",
      "150/150 [==============================] - 65s 431ms/step - loss: 0.3722 - accuracy: 0.8675 - val_loss: 0.3573 - val_accuracy: 0.8741\n",
      "Epoch 4/10\n",
      "150/150 [==============================] - 65s 432ms/step - loss: 0.3393 - accuracy: 0.8791 - val_loss: 0.3431 - val_accuracy: 0.8776\n",
      "Epoch 5/10\n",
      "150/150 [==============================] - 65s 435ms/step - loss: 0.3201 - accuracy: 0.8844 - val_loss: 0.3273 - val_accuracy: 0.8847\n",
      "Epoch 6/10\n",
      "150/150 [==============================] - 68s 455ms/step - loss: 0.3004 - accuracy: 0.8913 - val_loss: 0.3223 - val_accuracy: 0.8876\n",
      "Epoch 7/10\n",
      "150/150 [==============================] - 65s 434ms/step - loss: 0.2844 - accuracy: 0.8972 - val_loss: 0.3040 - val_accuracy: 0.8933\n",
      "Epoch 8/10\n",
      "150/150 [==============================] - 64s 424ms/step - loss: 0.2697 - accuracy: 0.9028 - val_loss: 0.3051 - val_accuracy: 0.8909\n",
      "Epoch 9/10\n",
      "150/150 [==============================] - 68s 452ms/step - loss: 0.2545 - accuracy: 0.9083 - val_loss: 0.3027 - val_accuracy: 0.8932\n",
      "Epoch 10/10\n",
      "150/150 [==============================] - 64s 430ms/step - loss: 0.2435 - accuracy: 0.9126 - val_loss: 0.2887 - val_accuracy: 0.8989\n",
      "Epoch 1/10\n",
      "  2/150 [..............................] - ETA: 43s - loss: 2.2913 - accuracy: 0.1113WARNING:tensorflow:Callbacks method `on_train_batch_end` is slow compared to the batch time (batch time: 0.0830s vs `on_train_batch_end` time: 0.5056s). Check your callbacks.\n",
      "150/150 [==============================] - 16s 104ms/step - loss: 0.8656 - accuracy: 0.6907 - val_loss: 0.5704 - val_accuracy: 0.7871\n",
      "Epoch 2/10\n",
      "150/150 [==============================] - 14s 96ms/step - loss: 0.5061 - accuracy: 0.8104 - val_loss: 0.4580 - val_accuracy: 0.8366\n",
      "Epoch 3/10\n",
      "150/150 [==============================] - 14s 93ms/step - loss: 0.4371 - accuracy: 0.8430 - val_loss: 0.4076 - val_accuracy: 0.8581\n",
      "Epoch 4/10\n",
      "150/150 [==============================] - 15s 99ms/step - loss: 0.4008 - accuracy: 0.8570 - val_loss: 0.3876 - val_accuracy: 0.8637\n",
      "Epoch 5/10\n",
      "150/150 [==============================] - 15s 103ms/step - loss: 0.3737 - accuracy: 0.8669 - val_loss: 0.3806 - val_accuracy: 0.8676\n",
      "Epoch 6/10\n",
      "150/150 [==============================] - 15s 100ms/step - loss: 0.3579 - accuracy: 0.8696 - val_loss: 0.3624 - val_accuracy: 0.8719\n",
      "Epoch 7/10\n",
      "150/150 [==============================] - 15s 100ms/step - loss: 0.3415 - accuracy: 0.8765 - val_loss: 0.3433 - val_accuracy: 0.8784\n",
      "Epoch 8/10\n",
      "150/150 [==============================] - 15s 100ms/step - loss: 0.3299 - accuracy: 0.8810 - val_loss: 0.3370 - val_accuracy: 0.8814\n",
      "Epoch 9/10\n",
      "150/150 [==============================] - 15s 99ms/step - loss: 0.3175 - accuracy: 0.8847 - val_loss: 0.3255 - val_accuracy: 0.8847\n",
      "Epoch 10/10\n",
      "150/150 [==============================] - 15s 99ms/step - loss: 0.3124 - accuracy: 0.8861 - val_loss: 0.3237 - val_accuracy: 0.8848\n",
      "Epoch 1/10\n",
      "  2/150 [..............................] - ETA: 51s - loss: 2.2943 - accuracy: 0.1113WARNING:tensorflow:Callbacks method `on_train_batch_end` is slow compared to the batch time (batch time: 0.1952s vs `on_train_batch_end` time: 0.5008s). Check your callbacks.\n",
      "150/150 [==============================] - 30s 200ms/step - loss: 0.7238 - accuracy: 0.7387 - val_loss: 0.4998 - val_accuracy: 0.8158\n",
      "Epoch 2/10\n",
      "150/150 [==============================] - 30s 197ms/step - loss: 0.4399 - accuracy: 0.8399 - val_loss: 0.4090 - val_accuracy: 0.8535\n",
      "Epoch 3/10\n",
      "150/150 [==============================] - 29s 196ms/step - loss: 0.3767 - accuracy: 0.8659 - val_loss: 0.3810 - val_accuracy: 0.8631\n",
      "Epoch 4/10\n",
      "150/150 [==============================] - 31s 206ms/step - loss: 0.3383 - accuracy: 0.8781 - val_loss: 0.3359 - val_accuracy: 0.8807\n",
      "Epoch 5/10\n",
      "150/150 [==============================] - 30s 201ms/step - loss: 0.3212 - accuracy: 0.8841 - val_loss: 0.3204 - val_accuracy: 0.8834\n",
      "Epoch 6/10\n",
      "150/150 [==============================] - 30s 199ms/step - loss: 0.3014 - accuracy: 0.8907 - val_loss: 0.3149 - val_accuracy: 0.8868\n",
      "Epoch 7/10\n",
      "150/150 [==============================] - 30s 198ms/step - loss: 0.2831 - accuracy: 0.8957 - val_loss: 0.3121 - val_accuracy: 0.8918\n",
      "Epoch 8/10\n",
      "150/150 [==============================] - 30s 203ms/step - loss: 0.2698 - accuracy: 0.9016 - val_loss: 0.2877 - val_accuracy: 0.9013\n",
      "Epoch 9/10\n",
      "150/150 [==============================] - 29s 195ms/step - loss: 0.2579 - accuracy: 0.9060 - val_loss: 0.2876 - val_accuracy: 0.8981\n",
      "Epoch 10/10\n",
      "150/150 [==============================] - 30s 199ms/step - loss: 0.2459 - accuracy: 0.9095 - val_loss: 0.2914 - val_accuracy: 0.9034\n",
      "Epoch 1/10\n",
      "150/150 [==============================] - 65s 435ms/step - loss: 0.6365 - accuracy: 0.7678 - val_loss: 0.4239 - val_accuracy: 0.8469\n",
      "Epoch 2/10\n",
      "150/150 [==============================] - 66s 442ms/step - loss: 0.3815 - accuracy: 0.8637 - val_loss: 0.3438 - val_accuracy: 0.8794\n",
      "Epoch 3/10\n",
      "150/150 [==============================] - 68s 453ms/step - loss: 0.3226 - accuracy: 0.8815 - val_loss: 0.3286 - val_accuracy: 0.8827\n",
      "Epoch 4/10\n",
      "150/150 [==============================] - 65s 433ms/step - loss: 0.2976 - accuracy: 0.8905 - val_loss: 0.3104 - val_accuracy: 0.8919\n",
      "Epoch 5/10\n",
      "150/150 [==============================] - 63s 422ms/step - loss: 0.2708 - accuracy: 0.9013 - val_loss: 0.3062 - val_accuracy: 0.8898\n",
      "Epoch 6/10\n",
      "150/150 [==============================] - 65s 436ms/step - loss: 0.2456 - accuracy: 0.9108 - val_loss: 0.3028 - val_accuracy: 0.8951\n",
      "Epoch 7/10\n",
      "150/150 [==============================] - 63s 423ms/step - loss: 0.2337 - accuracy: 0.9146 - val_loss: 0.2843 - val_accuracy: 0.9003\n",
      "Epoch 8/10\n",
      "150/150 [==============================] - 63s 421ms/step - loss: 0.2179 - accuracy: 0.9190 - val_loss: 0.2900 - val_accuracy: 0.8981\n",
      "Epoch 9/10\n",
      "150/150 [==============================] - 62s 415ms/step - loss: 0.2063 - accuracy: 0.9234 - val_loss: 0.2845 - val_accuracy: 0.9022\n",
      "Epoch 10/10\n",
      "150/150 [==============================] - 63s 423ms/step - loss: 0.1900 - accuracy: 0.9293 - val_loss: 0.2798 - val_accuracy: 0.9049\n",
      "Epoch 1/10\n",
      "  2/150 [..............................] - ETA: 47s - loss: 2.3104 - accuracy: 0.0742WARNING:tensorflow:Callbacks method `on_train_batch_end` is slow compared to the batch time (batch time: 0.0791s vs `on_train_batch_end` time: 0.5681s). Check your callbacks.\n",
      "150/150 [==============================] - 16s 107ms/step - loss: 0.8876 - accuracy: 0.6746 - val_loss: 0.5990 - val_accuracy: 0.7794\n",
      "Epoch 2/10\n",
      "150/150 [==============================] - 14s 95ms/step - loss: 0.5129 - accuracy: 0.8087 - val_loss: 0.4692 - val_accuracy: 0.8303\n",
      "Epoch 3/10\n",
      "150/150 [==============================] - 14s 95ms/step - loss: 0.4433 - accuracy: 0.8388 - val_loss: 0.4333 - val_accuracy: 0.8451\n",
      "Epoch 4/10\n",
      "150/150 [==============================] - 14s 95ms/step - loss: 0.4064 - accuracy: 0.8549 - val_loss: 0.3885 - val_accuracy: 0.8655\n",
      "Epoch 5/10\n",
      "150/150 [==============================] - 14s 97ms/step - loss: 0.3772 - accuracy: 0.8646 - val_loss: 0.3846 - val_accuracy: 0.8647\n",
      "Epoch 6/10\n",
      "150/150 [==============================] - 14s 95ms/step - loss: 0.3547 - accuracy: 0.8737 - val_loss: 0.3619 - val_accuracy: 0.8717\n",
      "Epoch 7/10\n",
      "150/150 [==============================] - 14s 96ms/step - loss: 0.3398 - accuracy: 0.8776 - val_loss: 0.3412 - val_accuracy: 0.8785\n",
      "Epoch 8/10\n",
      "150/150 [==============================] - 14s 97ms/step - loss: 0.3254 - accuracy: 0.8831 - val_loss: 0.3267 - val_accuracy: 0.8870\n",
      "Epoch 9/10\n",
      "150/150 [==============================] - 14s 94ms/step - loss: 0.3156 - accuracy: 0.8856 - val_loss: 0.3536 - val_accuracy: 0.8772\n",
      "Epoch 10/10\n",
      "150/150 [==============================] - 14s 96ms/step - loss: 0.3025 - accuracy: 0.8904 - val_loss: 0.3203 - val_accuracy: 0.8872\n",
      "Epoch 1/10\n",
      "  2/150 [..............................] - ETA: 47s - loss: 2.2756 - accuracy: 0.1641WARNING:tensorflow:Callbacks method `on_train_batch_end` is slow compared to the batch time (batch time: 0.1669s vs `on_train_batch_end` time: 0.4779s). Check your callbacks.\n",
      "150/150 [==============================] - 30s 201ms/step - loss: 0.7347 - accuracy: 0.7339 - val_loss: 0.4854 - val_accuracy: 0.8211\n",
      "Epoch 2/10\n",
      "150/150 [==============================] - 29s 191ms/step - loss: 0.4468 - accuracy: 0.8367 - val_loss: 0.4550 - val_accuracy: 0.8361\n",
      "Epoch 3/10\n",
      "150/150 [==============================] - 28s 190ms/step - loss: 0.3795 - accuracy: 0.8633 - val_loss: 0.3666 - val_accuracy: 0.8711\n",
      "Epoch 4/10\n",
      "150/150 [==============================] - 32s 216ms/step - loss: 0.3427 - accuracy: 0.8754 - val_loss: 0.3436 - val_accuracy: 0.8813\n",
      "Epoch 5/10\n",
      "150/150 [==============================] - 30s 197ms/step - loss: 0.3191 - accuracy: 0.8849 - val_loss: 0.3212 - val_accuracy: 0.8891\n",
      "Epoch 6/10\n",
      "150/150 [==============================] - 30s 199ms/step - loss: 0.2977 - accuracy: 0.8928 - val_loss: 0.3117 - val_accuracy: 0.8915\n",
      "Epoch 7/10\n",
      "150/150 [==============================] - 30s 200ms/step - loss: 0.2796 - accuracy: 0.8978 - val_loss: 0.3131 - val_accuracy: 0.8933\n",
      "Epoch 8/10\n",
      "150/150 [==============================] - 29s 195ms/step - loss: 0.2687 - accuracy: 0.9009 - val_loss: 0.3030 - val_accuracy: 0.8934\n",
      "Epoch 9/10\n",
      "150/150 [==============================] - 29s 192ms/step - loss: 0.2618 - accuracy: 0.9042 - val_loss: 0.3094 - val_accuracy: 0.8883\n",
      "Epoch 10/10\n",
      "150/150 [==============================] - 28s 188ms/step - loss: 0.2458 - accuracy: 0.9095 - val_loss: 0.2903 - val_accuracy: 0.8994\n",
      "Epoch 1/10\n",
      "150/150 [==============================] - 66s 441ms/step - loss: 0.6220 - accuracy: 0.7676 - val_loss: 0.4290 - val_accuracy: 0.8438\n",
      "Epoch 2/10\n",
      "150/150 [==============================] - 66s 437ms/step - loss: 0.3827 - accuracy: 0.8602 - val_loss: 0.3585 - val_accuracy: 0.8732\n",
      "Epoch 3/10\n",
      "150/150 [==============================] - 72s 479ms/step - loss: 0.3230 - accuracy: 0.8827 - val_loss: 0.3161 - val_accuracy: 0.8867\n",
      "Epoch 4/10\n",
      "150/150 [==============================] - 68s 451ms/step - loss: 0.2833 - accuracy: 0.8966 - val_loss: 0.3022 - val_accuracy: 0.8943\n",
      "Epoch 5/10\n",
      "150/150 [==============================] - 71s 473ms/step - loss: 0.2679 - accuracy: 0.9021 - val_loss: 0.2904 - val_accuracy: 0.8983\n",
      "Epoch 6/10\n",
      "150/150 [==============================] - 67s 446ms/step - loss: 0.2406 - accuracy: 0.9117 - val_loss: 0.2944 - val_accuracy: 0.8989\n",
      "Epoch 7/10\n",
      "150/150 [==============================] - 68s 456ms/step - loss: 0.2255 - accuracy: 0.9169 - val_loss: 0.2890 - val_accuracy: 0.8984\n",
      "Epoch 8/10\n",
      "150/150 [==============================] - 67s 449ms/step - loss: 0.2121 - accuracy: 0.9227 - val_loss: 0.2815 - val_accuracy: 0.9023\n",
      "Epoch 9/10\n",
      "150/150 [==============================] - 69s 458ms/step - loss: 0.1944 - accuracy: 0.9280 - val_loss: 0.2729 - val_accuracy: 0.9057\n",
      "Epoch 10/10\n",
      "150/150 [==============================] - 77s 511ms/step - loss: 0.1848 - accuracy: 0.9324 - val_loss: 0.2819 - val_accuracy: 0.9054\n",
      "Epoch 1/10\n",
      "  2/150 [..............................] - ETA: 51s - loss: 2.3244 - accuracy: 0.1641WARNING:tensorflow:Callbacks method `on_train_batch_end` is slow compared to the batch time (batch time: 0.1269s vs `on_train_batch_end` time: 0.5612s). Check your callbacks.\n",
      "150/150 [==============================] - 17s 111ms/step - loss: 0.8462 - accuracy: 0.6891 - val_loss: 0.5391 - val_accuracy: 0.7937\n",
      "Epoch 2/10\n",
      "150/150 [==============================] - 16s 105ms/step - loss: 0.5080 - accuracy: 0.8089 - val_loss: 0.4686 - val_accuracy: 0.8222\n",
      "Epoch 3/10\n",
      "150/150 [==============================] - 15s 99ms/step - loss: 0.4486 - accuracy: 0.8343 - val_loss: 0.4259 - val_accuracy: 0.8424\n",
      "Epoch 4/10\n",
      "150/150 [==============================] - 15s 99ms/step - loss: 0.4038 - accuracy: 0.8523 - val_loss: 0.3857 - val_accuracy: 0.8616\n",
      "Epoch 5/10\n",
      "150/150 [==============================] - 15s 99ms/step - loss: 0.3730 - accuracy: 0.8640 - val_loss: 0.3670 - val_accuracy: 0.8679\n",
      "Epoch 6/10\n",
      "150/150 [==============================] - 15s 101ms/step - loss: 0.3531 - accuracy: 0.8708 - val_loss: 0.3434 - val_accuracy: 0.8795\n",
      "Epoch 7/10\n",
      "150/150 [==============================] - 15s 101ms/step - loss: 0.3361 - accuracy: 0.8782 - val_loss: 0.3334 - val_accuracy: 0.8833\n",
      "Epoch 8/10\n",
      "150/150 [==============================] - 15s 102ms/step - loss: 0.3248 - accuracy: 0.8810 - val_loss: 0.3286 - val_accuracy: 0.8865\n",
      "Epoch 9/10\n",
      "150/150 [==============================] - 15s 99ms/step - loss: 0.3170 - accuracy: 0.8838 - val_loss: 0.3201 - val_accuracy: 0.8907\n",
      "Epoch 10/10\n",
      "150/150 [==============================] - 17s 111ms/step - loss: 0.3036 - accuracy: 0.8903 - val_loss: 0.3285 - val_accuracy: 0.8854\n",
      "Epoch 1/10\n"
     ]
    },
    {
     "name": "stdout",
     "output_type": "stream",
     "text": [
      "  2/150 [..............................] - ETA: 1:05 - loss: 2.2714 - accuracy: 0.1875WARNING:tensorflow:Callbacks method `on_train_batch_end` is slow compared to the batch time (batch time: 0.1932s vs `on_train_batch_end` time: 0.6947s). Check your callbacks.\n",
      "150/150 [==============================] - 34s 224ms/step - loss: 0.6921 - accuracy: 0.7442 - val_loss: 0.4538 - val_accuracy: 0.8376\n",
      "Epoch 2/10\n",
      "150/150 [==============================] - 30s 199ms/step - loss: 0.4238 - accuracy: 0.8429 - val_loss: 0.3786 - val_accuracy: 0.8645\n",
      "Epoch 3/10\n",
      "150/150 [==============================] - 31s 210ms/step - loss: 0.3617 - accuracy: 0.8688 - val_loss: 0.3555 - val_accuracy: 0.8730\n",
      "Epoch 4/10\n",
      "150/150 [==============================] - 32s 211ms/step - loss: 0.3271 - accuracy: 0.8797 - val_loss: 0.3308 - val_accuracy: 0.8821\n",
      "Epoch 5/10\n",
      "150/150 [==============================] - 34s 229ms/step - loss: 0.3036 - accuracy: 0.8884 - val_loss: 0.3286 - val_accuracy: 0.8817\n",
      "Epoch 6/10\n",
      "150/150 [==============================] - 31s 209ms/step - loss: 0.2871 - accuracy: 0.8943 - val_loss: 0.2990 - val_accuracy: 0.8929\n",
      "Epoch 7/10\n",
      "150/150 [==============================] - 30s 198ms/step - loss: 0.2748 - accuracy: 0.9001 - val_loss: 0.2937 - val_accuracy: 0.8955\n",
      "Epoch 8/10\n",
      "150/150 [==============================] - 30s 199ms/step - loss: 0.2588 - accuracy: 0.9051 - val_loss: 0.2949 - val_accuracy: 0.8989\n",
      "Epoch 9/10\n",
      "150/150 [==============================] - 29s 195ms/step - loss: 0.2471 - accuracy: 0.9092 - val_loss: 0.2896 - val_accuracy: 0.9006\n",
      "Epoch 10/10\n",
      "150/150 [==============================] - 29s 195ms/step - loss: 0.2361 - accuracy: 0.9119 - val_loss: 0.2762 - val_accuracy: 0.9048\n",
      "Epoch 1/10\n",
      "150/150 [==============================] - 65s 436ms/step - loss: 0.6138 - accuracy: 0.7690 - val_loss: 0.4199 - val_accuracy: 0.8464\n",
      "Epoch 2/10\n",
      "150/150 [==============================] - 65s 436ms/step - loss: 0.3671 - accuracy: 0.8672 - val_loss: 0.3437 - val_accuracy: 0.8781\n",
      "Epoch 3/10\n",
      "150/150 [==============================] - 69s 457ms/step - loss: 0.3139 - accuracy: 0.8855 - val_loss: 0.3155 - val_accuracy: 0.8892\n",
      "Epoch 4/10\n",
      "150/150 [==============================] - 66s 443ms/step - loss: 0.2803 - accuracy: 0.8953 - val_loss: 0.3387 - val_accuracy: 0.8822\n",
      "Epoch 5/10\n",
      "150/150 [==============================] - 67s 446ms/step - loss: 0.2619 - accuracy: 0.9045 - val_loss: 0.2933 - val_accuracy: 0.8952\n",
      "Epoch 6/10\n",
      "150/150 [==============================] - 66s 438ms/step - loss: 0.2321 - accuracy: 0.9151 - val_loss: 0.2817 - val_accuracy: 0.9010\n",
      "Epoch 7/10\n",
      "150/150 [==============================] - 66s 438ms/step - loss: 0.2189 - accuracy: 0.9205 - val_loss: 0.2870 - val_accuracy: 0.9028\n",
      "Epoch 8/10\n",
      "150/150 [==============================] - 68s 451ms/step - loss: 0.2084 - accuracy: 0.9232 - val_loss: 0.2769 - val_accuracy: 0.9035\n",
      "Epoch 9/10\n",
      "150/150 [==============================] - 65s 433ms/step - loss: 0.1922 - accuracy: 0.9296 - val_loss: 0.3010 - val_accuracy: 0.9009\n",
      "Epoch 10/10\n",
      "150/150 [==============================] - 67s 447ms/step - loss: 0.1767 - accuracy: 0.9349 - val_loss: 0.2943 - val_accuracy: 0.9006\n"
     ]
    }
   ],
   "source": [
    "for d in dense_layer:\n",
    "    for n in neuron_num:\n",
    "        for c in conv_layer:\n",
    "            name=\"Project-2-Tuning-2conv-{}-dense--{}neuron-{}-{}\".format(c,d,n,int(time.time()))\n",
    "            model=Sequential()\n",
    "            model.add(Conv2D(filters=n, kernel_size=(3,3), input_shape=im_shape))\n",
    "            model.add(Activation('relu'))\n",
    "            model.add(MaxPooling2D(pool_size=(2,2)))\n",
    "            model.add(Dropout(0.2))\n",
    "            for nothing in range(c):\n",
    "                model.add(Conv2D(n,(3,3)))\n",
    "                model.add(Activation('relu'))\n",
    "                model.add(MaxPooling2D(pool_size=(2,2)))\n",
    "            model.add(Flatten())\n",
    "            for nothing in range(d):\n",
    "                model.add(Dense(n))\n",
    "            model.add(Dense(10, activation='softmax'))\n",
    "            tensorboard= TensorBoard(log_dir=\"logs\\{}\".format(name))\n",
    "            model.compile(loss='sparse_categorical_crossentropy',optimizer=\"Adam\",metrics=['accuracy'])\n",
    "            model.fit(x_train,y_train,epochs=10,batch_size=256,validation_split=0.2,callbacks=[tensorboard])\n"
   ]
  },
  {
   "cell_type": "code",
   "execution_count": 2,
   "metadata": {},
   "outputs": [
    {
     "name": "stdout",
     "output_type": "stream",
     "text": [
      "The tensorboard extension is already loaded. To reload it, use:\n",
      "  %reload_ext tensorboard\n"
     ]
    },
    {
     "data": {
      "text/plain": [
       "Reusing TensorBoard on port 6006 (pid 11408), started 2 days, 10:26:36 ago. (Use '!kill 11408' to kill it.)"
      ]
     },
     "metadata": {},
     "output_type": "display_data"
    },
    {
     "data": {
      "text/html": [
       "\n",
       "      <iframe id=\"tensorboard-frame-e4393c63bf015857\" width=\"100%\" height=\"800\" frameborder=\"0\">\n",
       "      </iframe>\n",
       "      <script>\n",
       "        (function() {\n",
       "          const frame = document.getElementById(\"tensorboard-frame-e4393c63bf015857\");\n",
       "          const url = new URL(\"/\", window.location);\n",
       "          const port = 6006;\n",
       "          if (port) {\n",
       "            url.port = port;\n",
       "          }\n",
       "          frame.src = url;\n",
       "        })();\n",
       "      </script>\n",
       "    "
      ],
      "text/plain": [
       "<IPython.core.display.HTML object>"
      ]
     },
     "metadata": {},
     "output_type": "display_data"
    }
   ],
   "source": [
    "%load_ext tensorboard\n",
    "%tensorboard --logdir logs"
   ]
  },
  {
   "cell_type": "markdown",
   "metadata": {},
   "source": [
    "<font size=\"5px\">Order Conv,Dense,Neurons<br>\n",
    "BEST Accuracy Train 1,3,128,  1,4,128,  1,2,128<br>\n",
    "BEST Accuracy Validation 1,3,128,  1,2,128  1,4,128<br>\n",
    "<br>\n",
    "BEST LOST TRAIN 1,3,128,  1,2,128,  1,4,128<br>\n",
    "BEST LOST Validation 1,3,128,  1,2,128,  1,4,64<br>\n",
    "</font>"
   ]
  },
  {
   "cell_type": "markdown",
   "metadata": {},
   "source": [
    "# Aimel's Accuracy rate\n",
    "Source: https://github.com/aieml/face-mask-detection-keras\n",
    "<img src=\"harr_accuracy.png\"><br>\n"
   ]
  },
  {
   "cell_type": "markdown",
   "metadata": {},
   "source": [
    "# FACE MASK DATASET"
   ]
  },
  {
   "cell_type": "code",
   "execution_count": 3,
   "metadata": {},
   "outputs": [
    {
     "name": "stdout",
     "output_type": "stream",
     "text": [
      "{'with mask': 0, 'without mask': 1}\n",
      "['with mask', 'without mask']\n",
      "[0, 1]\n"
     ]
    }
   ],
   "source": [
    "data_path='dataset'\n",
    "categories=os.listdir(data_path)\n",
    "labels=[i for i in range(len(categories))]\n",
    "\n",
    "label_dict=dict(zip(categories,labels))\n",
    "\n",
    "print(label_dict)\n",
    "print(categories)\n",
    "print(labels)\n",
    "\n",
    "img_size=100\n",
    "data=[]\n",
    "label=[]\n",
    "\n",
    "\n",
    "for category in categories:\n",
    "    folder_path=os.path.join(data_path,category)\n",
    "    img_names=os.listdir(folder_path)\n",
    "        \n",
    "    for img_name in img_names:\n",
    "        img_path=os.path.join(folder_path,img_name)\n",
    "        img=cv2.imread(img_path)\n",
    "\n",
    "        try:\n",
    "            gray=cv2.cvtColor(img,cv2.COLOR_BGR2GRAY)           \n",
    "            resized=cv2.resize(gray,(img_size,img_size))\n",
    "            data.append(resized)\n",
    "            label.append(label_dict[category])\n",
    "\n",
    "        except Exception as e:\n",
    "            pass\n",
    "            \n",
    "data=np.array(data)/255.0\n",
    "data=np.reshape(data,(data.shape[0],img_size,img_size,1))\n",
    "label=np.array(label)\n"
   ]
  },
  {
   "cell_type": "code",
   "execution_count": 9,
   "metadata": {},
   "outputs": [
    {
     "name": "stdout",
     "output_type": "stream",
     "text": [
      "data shape: (1376, 100, 100, 1)\n"
     ]
    }
   ],
   "source": [
    "im_rows = 100\n",
    "im_cols = 100\n",
    "batch_size = 512\n",
    "im_shape = (im_rows, im_cols, 1)\n",
    "\n",
    "data = data.reshape(data.shape[0], *im_shape)\n",
    "#x_validate = x_validate.reshape(x_validate.shape[0], *im_shape)\n",
    "\n",
    "print('data shape: {}'.format(data.shape))"
   ]
  },
  {
   "cell_type": "code",
   "execution_count": 19,
   "metadata": {},
   "outputs": [
    {
     "data": {
      "text/plain": [
       "<matplotlib.image.AxesImage at 0x161128eb5b0>"
      ]
     },
     "execution_count": 19,
     "metadata": {},
     "output_type": "execute_result"
    },
    {
     "data": {
      "image/png": "[encoded data removed]",
      "text/plain": [
       "<Figure size 432x288 with 1 Axes>"
      ]
     },
     "metadata": {
      "needs_background": "light"
     },
     "output_type": "display_data"
    }
   ],
   "source": [
    "plt.imshow(data[0])"
   ]
  },
  {
   "cell_type": "code",
   "execution_count": 24,
   "metadata": {},
   "outputs": [],
   "source": [
    "from sklearn.model_selection import train_test_split\n",
    "\n",
    "train_data,test_data,train_target,test_target=train_test_split(data,target,test_size=0.1)"
   ]
  },
  {
   "cell_type": "code",
   "execution_count": 108,
   "metadata": {},
   "outputs": [],
   "source": [
    "neuron_num=[50,100]\n",
    "conv_layer=[1,2]\n",
    "dense_layer=[10,15]"
   ]
  },
  {
   "cell_type": "code",
   "execution_count": 110,
   "metadata": {},
   "outputs": [
    {
     "name": "stdout",
     "output_type": "stream",
     "text": [
      "Epoch 1/10\n",
      " 2/31 [>.............................] - ETA: 10s - loss: 0.6931 - accuracy: 0.5312WARNING:tensorflow:Callbacks method `on_train_batch_end` is slow compared to the batch time (batch time: 0.1347s vs `on_train_batch_end` time: 0.5866s). Check your callbacks.\n",
      "31/31 [==============================] - 5s 175ms/step - loss: 0.6932 - accuracy: 0.4899 - val_loss: 0.6932 - val_accuracy: 0.4597\n",
      "Epoch 2/10\n",
      "31/31 [==============================] - 5s 152ms/step - loss: 0.6931 - accuracy: 0.5121 - val_loss: 0.6938 - val_accuracy: 0.4597\n",
      "Epoch 3/10\n",
      "31/31 [==============================] - 5s 149ms/step - loss: 0.6930 - accuracy: 0.5121 - val_loss: 0.6942 - val_accuracy: 0.4597\n",
      "Epoch 4/10\n",
      "31/31 [==============================] - 5s 152ms/step - loss: 0.6930 - accuracy: 0.5121 - val_loss: 0.6944 - val_accuracy: 0.4597\n",
      "Epoch 5/10\n",
      "31/31 [==============================] - 5s 154ms/step - loss: 0.6930 - accuracy: 0.5121 - val_loss: 0.6945 - val_accuracy: 0.4597\n",
      "Epoch 6/10\n",
      "31/31 [==============================] - 5s 163ms/step - loss: 0.6929 - accuracy: 0.5121 - val_loss: 0.6945 - val_accuracy: 0.4597\n",
      "Epoch 7/10\n",
      "31/31 [==============================] - 5s 174ms/step - loss: 0.6929 - accuracy: 0.5121 - val_loss: 0.6949 - val_accuracy: 0.4597\n",
      "Epoch 8/10\n",
      "31/31 [==============================] - 5s 157ms/step - loss: 0.6929 - accuracy: 0.5121 - val_loss: 0.6948 - val_accuracy: 0.4597\n",
      "Epoch 9/10\n",
      "31/31 [==============================] - 5s 162ms/step - loss: 0.6929 - accuracy: 0.5121 - val_loss: 0.6950 - val_accuracy: 0.4597\n",
      "Epoch 10/10\n",
      "31/31 [==============================] - 5s 167ms/step - loss: 0.6929 - accuracy: 0.5121 - val_loss: 0.6951 - val_accuracy: 0.4597\n",
      "Epoch 1/10\n",
      " 2/31 [>.............................] - ETA: 13s - loss: 0.6931 - accuracy: 0.4844WARNING:tensorflow:Callbacks method `on_train_batch_end` is slow compared to the batch time (batch time: 0.1435s vs `on_train_batch_end` time: 0.7915s). Check your callbacks.\n",
      "31/31 [==============================] - 6s 193ms/step - loss: 0.6933 - accuracy: 0.4859 - val_loss: 0.6930 - val_accuracy: 0.5403\n",
      "Epoch 2/10\n",
      "31/31 [==============================] - 5s 176ms/step - loss: 0.6931 - accuracy: 0.5040 - val_loss: 0.6937 - val_accuracy: 0.4597\n",
      "Epoch 3/10\n",
      "31/31 [==============================] - 6s 184ms/step - loss: 0.6931 - accuracy: 0.5121 - val_loss: 0.6940 - val_accuracy: 0.4597\n",
      "Epoch 4/10\n",
      "31/31 [==============================] - 5s 171ms/step - loss: 0.6930 - accuracy: 0.5121 - val_loss: 0.6940 - val_accuracy: 0.4597\n",
      "Epoch 5/10\n",
      "31/31 [==============================] - 5s 170ms/step - loss: 0.6930 - accuracy: 0.5121 - val_loss: 0.6944 - val_accuracy: 0.4597\n",
      "Epoch 6/10\n",
      "31/31 [==============================] - 5s 162ms/step - loss: 0.6929 - accuracy: 0.5121 - val_loss: 0.6946 - val_accuracy: 0.4597\n",
      "Epoch 7/10\n",
      "31/31 [==============================] - 5s 159ms/step - loss: 0.6929 - accuracy: 0.5121 - val_loss: 0.6947 - val_accuracy: 0.4597\n",
      "Epoch 8/10\n",
      "31/31 [==============================] - 5s 163ms/step - loss: 0.6929 - accuracy: 0.5121 - val_loss: 0.6948 - val_accuracy: 0.4597\n",
      "Epoch 9/10\n",
      "31/31 [==============================] - 5s 166ms/step - loss: 0.6929 - accuracy: 0.5121 - val_loss: 0.6950 - val_accuracy: 0.4597\n",
      "Epoch 10/10\n",
      "31/31 [==============================] - 5s 164ms/step - loss: 0.6929 - accuracy: 0.5121 - val_loss: 0.6950 - val_accuracy: 0.4597\n",
      "Epoch 1/10\n",
      " 2/31 [>.............................] - ETA: 15s - loss: 0.6931 - accuracy: 0.4375WARNING:tensorflow:Callbacks method `on_train_batch_end` is slow compared to the batch time (batch time: 0.3172s vs `on_train_batch_end` time: 0.7643s). Check your callbacks.\n",
      "31/31 [==============================] - 11s 364ms/step - loss: 0.6932 - accuracy: 0.4818 - val_loss: 0.6935 - val_accuracy: 0.4597\n",
      "Epoch 2/10\n",
      "31/31 [==============================] - 10s 335ms/step - loss: 0.6931 - accuracy: 0.5121 - val_loss: 0.6937 - val_accuracy: 0.4597\n",
      "Epoch 3/10\n",
      "31/31 [==============================] - 11s 352ms/step - loss: 0.6930 - accuracy: 0.5121 - val_loss: 0.6940 - val_accuracy: 0.4597\n",
      "Epoch 4/10\n",
      "31/31 [==============================] - 11s 346ms/step - loss: 0.6930 - accuracy: 0.5121 - val_loss: 0.6940 - val_accuracy: 0.4597\n",
      "Epoch 5/10\n",
      "31/31 [==============================] - 11s 345ms/step - loss: 0.6932 - accuracy: 0.5121 - val_loss: 0.6948 - val_accuracy: 0.4597\n",
      "Epoch 6/10\n",
      "31/31 [==============================] - 10s 330ms/step - loss: 0.6930 - accuracy: 0.5121 - val_loss: 0.6946 - val_accuracy: 0.4597\n",
      "Epoch 7/10\n",
      "31/31 [==============================] - 11s 344ms/step - loss: 0.6929 - accuracy: 0.5121 - val_loss: 0.6946 - val_accuracy: 0.4597\n",
      "Epoch 8/10\n",
      "31/31 [==============================] - 11s 342ms/step - loss: 0.6929 - accuracy: 0.5121 - val_loss: 0.6949 - val_accuracy: 0.4597\n",
      "Epoch 9/10\n",
      "31/31 [==============================] - 11s 358ms/step - loss: 0.6929 - accuracy: 0.5121 - val_loss: 0.6948 - val_accuracy: 0.4597\n",
      "Epoch 10/10\n",
      "31/31 [==============================] - 11s 355ms/step - loss: 0.6929 - accuracy: 0.5121 - val_loss: 0.6949 - val_accuracy: 0.4597\n",
      "Epoch 1/10\n",
      " 2/31 [>.............................] - ETA: 15s - loss: 0.6932 - accuracy: 0.4688WARNING:tensorflow:Callbacks method `on_train_batch_end` is slow compared to the batch time (batch time: 0.3221s vs `on_train_batch_end` time: 0.7489s). Check your callbacks.\n",
      "31/31 [==============================] - 13s 409ms/step - loss: 0.6932 - accuracy: 0.4949 - val_loss: 0.6937 - val_accuracy: 0.4597\n",
      "Epoch 2/10\n",
      "31/31 [==============================] - 12s 402ms/step - loss: 0.6931 - accuracy: 0.5121 - val_loss: 0.6947 - val_accuracy: 0.4597\n",
      "Epoch 3/10\n",
      "31/31 [==============================] - 12s 377ms/step - loss: 0.6930 - accuracy: 0.5121 - val_loss: 0.6948 - val_accuracy: 0.4597\n",
      "Epoch 4/10\n",
      "31/31 [==============================] - 12s 396ms/step - loss: 0.6930 - accuracy: 0.5121 - val_loss: 0.6951 - val_accuracy: 0.4597\n",
      "Epoch 5/10\n",
      "31/31 [==============================] - 11s 360ms/step - loss: 0.6929 - accuracy: 0.5121 - val_loss: 0.6953 - val_accuracy: 0.4597\n",
      "Epoch 6/10\n",
      "31/31 [==============================] - 11s 363ms/step - loss: 0.6930 - accuracy: 0.5121 - val_loss: 0.6955 - val_accuracy: 0.4597\n",
      "Epoch 7/10\n",
      "31/31 [==============================] - 11s 358ms/step - loss: 0.6930 - accuracy: 0.5121 - val_loss: 0.6949 - val_accuracy: 0.4597\n",
      "Epoch 8/10\n",
      "31/31 [==============================] - 11s 370ms/step - loss: 0.6929 - accuracy: 0.5121 - val_loss: 0.6954 - val_accuracy: 0.4597\n",
      "Epoch 9/10\n",
      "31/31 [==============================] - 12s 396ms/step - loss: 0.6929 - accuracy: 0.5121 - val_loss: 0.6952 - val_accuracy: 0.4597\n",
      "Epoch 10/10\n",
      "31/31 [==============================] - 11s 363ms/step - loss: 0.6930 - accuracy: 0.5121 - val_loss: 0.6950 - val_accuracy: 0.4597\n",
      "Epoch 1/10\n",
      " 2/31 [>.............................] - ETA: 16s - loss: 0.6939 - accuracy: 0.4688WARNING:tensorflow:Callbacks method `on_train_batch_end` is slow compared to the batch time (batch time: 0.1562s vs `on_train_batch_end` time: 0.9721s). Check your callbacks.\n",
      "31/31 [==============================] - 6s 194ms/step - loss: 0.6932 - accuracy: 0.4939 - val_loss: 0.6936 - val_accuracy: 0.4597\n",
      "Epoch 2/10\n",
      "31/31 [==============================] - 5s 162ms/step - loss: 0.6930 - accuracy: 0.5121 - val_loss: 0.6939 - val_accuracy: 0.4597\n",
      "Epoch 3/10\n",
      "31/31 [==============================] - 5s 168ms/step - loss: 0.6930 - accuracy: 0.5121 - val_loss: 0.6940 - val_accuracy: 0.4597\n",
      "Epoch 4/10\n",
      "31/31 [==============================] - 5s 162ms/step - loss: 0.6930 - accuracy: 0.5121 - val_loss: 0.6943 - val_accuracy: 0.4597\n",
      "Epoch 5/10\n",
      "31/31 [==============================] - 5s 158ms/step - loss: 0.6929 - accuracy: 0.5121 - val_loss: 0.6944 - val_accuracy: 0.4597\n",
      "Epoch 6/10\n",
      "31/31 [==============================] - 5s 154ms/step - loss: 0.6931 - accuracy: 0.5121 - val_loss: 0.6948 - val_accuracy: 0.4597\n",
      "Epoch 7/10\n",
      "31/31 [==============================] - 5s 169ms/step - loss: 0.6929 - accuracy: 0.5121 - val_loss: 0.6947 - val_accuracy: 0.4597\n",
      "Epoch 8/10\n",
      "31/31 [==============================] - 6s 183ms/step - loss: 0.6930 - accuracy: 0.5121 - val_loss: 0.6951 - val_accuracy: 0.4597\n",
      "Epoch 9/10\n",
      "31/31 [==============================] - 6s 180ms/step - loss: 0.6929 - accuracy: 0.5121 - val_loss: 0.6950 - val_accuracy: 0.4597\n",
      "Epoch 10/10\n",
      "31/31 [==============================] - 5s 172ms/step - loss: 0.6929 - accuracy: 0.5121 - val_loss: 0.6950 - val_accuracy: 0.4597\n",
      "Epoch 1/10\n",
      " 2/31 [>.............................] - ETA: 20s - loss: 0.6930 - accuracy: 0.5156WARNING:tensorflow:Callbacks method `on_train_batch_end` is slow compared to the batch time (batch time: 0.1640s vs `on_train_batch_end` time: 1.2288s). Check your callbacks.\n",
      "31/31 [==============================] - 7s 220ms/step - loss: 0.6932 - accuracy: 0.5101 - val_loss: 0.6946 - val_accuracy: 0.4597\n",
      "Epoch 2/10\n",
      "31/31 [==============================] - 5s 171ms/step - loss: 0.6932 - accuracy: 0.5121 - val_loss: 0.6945 - val_accuracy: 0.4597\n",
      "Epoch 3/10\n",
      "31/31 [==============================] - 6s 194ms/step - loss: 0.6931 - accuracy: 0.5121 - val_loss: 0.6952 - val_accuracy: 0.4597\n",
      "Epoch 4/10\n",
      "31/31 [==============================] - 6s 189ms/step - loss: 0.6930 - accuracy: 0.5121 - val_loss: 0.6949 - val_accuracy: 0.4597\n",
      "Epoch 5/10\n",
      "31/31 [==============================] - 5s 171ms/step - loss: 0.6929 - accuracy: 0.5121 - val_loss: 0.6953 - val_accuracy: 0.4597\n",
      "Epoch 6/10\n",
      "31/31 [==============================] - 5s 175ms/step - loss: 0.6930 - accuracy: 0.5121 - val_loss: 0.6959 - val_accuracy: 0.4597\n",
      "Epoch 7/10\n",
      "31/31 [==============================] - 6s 179ms/step - loss: 0.6930 - accuracy: 0.5121 - val_loss: 0.6955 - val_accuracy: 0.4597\n",
      "Epoch 8/10\n",
      "31/31 [==============================] - 5s 172ms/step - loss: 0.6930 - accuracy: 0.5121 - val_loss: 0.6954 - val_accuracy: 0.4597\n",
      "Epoch 9/10\n",
      "31/31 [==============================] - 5s 174ms/step - loss: 0.6930 - accuracy: 0.5121 - val_loss: 0.6948 - val_accuracy: 0.4597\n",
      "Epoch 10/10\n",
      "31/31 [==============================] - 5s 170ms/step - loss: 0.6930 - accuracy: 0.5121 - val_loss: 0.6961 - val_accuracy: 0.4597\n",
      "Epoch 1/10\n",
      " 2/31 [>.............................] - ETA: 17s - loss: 0.6935 - accuracy: 0.4688WARNING:tensorflow:Callbacks method `on_train_batch_end` is slow compared to the batch time (batch time: 0.3045s vs `on_train_batch_end` time: 0.9098s). Check your callbacks.\n",
      "31/31 [==============================] - 12s 399ms/step - loss: 0.6936 - accuracy: 0.4879 - val_loss: 0.6930 - val_accuracy: 0.5403\n",
      "Epoch 2/10\n",
      "31/31 [==============================] - 11s 364ms/step - loss: 0.6931 - accuracy: 0.5040 - val_loss: 0.6938 - val_accuracy: 0.4597\n",
      "Epoch 3/10\n",
      "31/31 [==============================] - 11s 346ms/step - loss: 0.6930 - accuracy: 0.5121 - val_loss: 0.6942 - val_accuracy: 0.4597\n",
      "Epoch 4/10\n",
      "31/31 [==============================] - 11s 355ms/step - loss: 0.6930 - accuracy: 0.5121 - val_loss: 0.6945 - val_accuracy: 0.4597\n",
      "Epoch 5/10\n",
      "31/31 [==============================] - 11s 371ms/step - loss: 0.6929 - accuracy: 0.5121 - val_loss: 0.6946 - val_accuracy: 0.4597\n",
      "Epoch 6/10\n",
      "31/31 [==============================] - 11s 347ms/step - loss: 0.6929 - accuracy: 0.5121 - val_loss: 0.6946 - val_accuracy: 0.4597\n",
      "Epoch 7/10\n",
      "31/31 [==============================] - 11s 364ms/step - loss: 0.6929 - accuracy: 0.5121 - val_loss: 0.6947 - val_accuracy: 0.4597\n",
      "Epoch 8/10\n",
      "31/31 [==============================] - 11s 367ms/step - loss: 0.6929 - accuracy: 0.5121 - val_loss: 0.6947 - val_accuracy: 0.4597\n",
      "Epoch 9/10\n",
      "31/31 [==============================] - 11s 351ms/step - loss: 0.6929 - accuracy: 0.5121 - val_loss: 0.6951 - val_accuracy: 0.4597\n",
      "Epoch 10/10\n",
      "31/31 [==============================] - 11s 354ms/step - loss: 0.6929 - accuracy: 0.5121 - val_loss: 0.6950 - val_accuracy: 0.4597\n",
      "Epoch 1/10\n",
      " 2/31 [>.............................] - ETA: 18s - loss: 0.6932 - accuracy: 0.4688WARNING:tensorflow:Callbacks method `on_train_batch_end` is slow compared to the batch time (batch time: 0.3406s vs `on_train_batch_end` time: 0.9381s). Check your callbacks.\n",
      "31/31 [==============================] - 13s 409ms/step - loss: 0.6932 - accuracy: 0.4899 - val_loss: 0.6938 - val_accuracy: 0.4597\n",
      "Epoch 2/10\n",
      "31/31 [==============================] - 12s 392ms/step - loss: 0.6933 - accuracy: 0.5121 - val_loss: 0.6951 - val_accuracy: 0.4597\n",
      "Epoch 3/10\n",
      "31/31 [==============================] - 12s 382ms/step - loss: 0.6929 - accuracy: 0.5121 - val_loss: 0.6944 - val_accuracy: 0.4597\n",
      "Epoch 4/10\n",
      "31/31 [==============================] - 12s 371ms/step - loss: 0.6930 - accuracy: 0.5121 - val_loss: 0.6954 - val_accuracy: 0.4597\n",
      "Epoch 5/10\n",
      "31/31 [==============================] - 13s 419ms/step - loss: 0.6930 - accuracy: 0.5121 - val_loss: 0.6950 - val_accuracy: 0.4597\n",
      "Epoch 6/10\n",
      "31/31 [==============================] - 12s 380ms/step - loss: 0.6929 - accuracy: 0.5121 - val_loss: 0.6949 - val_accuracy: 0.4597\n",
      "Epoch 7/10\n",
      "31/31 [==============================] - 13s 432ms/step - loss: 0.6930 - accuracy: 0.5121 - val_loss: 0.6953 - val_accuracy: 0.4597\n",
      "Epoch 8/10\n",
      "31/31 [==============================] - 12s 374ms/step - loss: 0.6930 - accuracy: 0.5121 - val_loss: 0.6954 - val_accuracy: 0.4597\n",
      "Epoch 9/10\n",
      "31/31 [==============================] - 12s 376ms/step - loss: 0.6930 - accuracy: 0.5121 - val_loss: 0.6955 - val_accuracy: 0.4597\n",
      "Epoch 10/10\n",
      "31/31 [==============================] - 12s 374ms/step - loss: 0.6929 - accuracy: 0.5121 - val_loss: 0.6953 - val_accuracy: 0.4597\n"
     ]
    }
   ],
   "source": [
    "for d in dense_layer:\n",
    "    for n in neuron_num:\n",
    "        for c in conv_layer:\n",
    "            model=Sequential()\n",
    "            name=\"Project-FaceMask-Real -1-Tuning-2conv-{}-dense--{}neuron-{}-{}\".format(c,d,n,int(time.time()))\n",
    "            model.add(Conv2D(n,(3,3),input_shape=data.shape[1:]))\n",
    "            model.add(Activation('relu'))\n",
    "            model.add(MaxPooling2D(pool_size=(2,2)))\n",
    "            for nothing in range(c):\n",
    "                model.add(Conv2D(n,(3,3)))\n",
    "                model.add(Activation('relu'))\n",
    "                model.add(MaxPooling2D(pool_size=(2,2)))\n",
    "\n",
    "            model.add(Flatten())\n",
    "            model.add(Dropout(0.5))\n",
    "            for nothing in range(d):\n",
    "                model.add(Dense(d,activation='relu'))\n",
    "            model.add(Dense(2,activation='softmax'))\n",
    "            tensorboard= TensorBoard(log_dir=\"logs\\{}\".format(name))\n",
    "            model.compile(loss='categorical_crossentropy',optimizer='adam',metrics=['accuracy'])\n",
    "            model.fit(train_data,train_target,epochs=10,validation_split=0.2,callbacks=[tensorboard])"
   ]
  },
  {
   "cell_type": "code",
   "execution_count": 9,
   "metadata": {},
   "outputs": [
    {
     "name": "stdout",
     "output_type": "stream",
     "text": [
      "The tensorboard extension is already loaded. To reload it, use:\n",
      "  %reload_ext tensorboard\n"
     ]
    },
    {
     "data": {
      "text/plain": [
       "Reusing TensorBoard on port 6006 (pid 11408), started 4 days, 21:52:33 ago. (Use '!kill 11408' to kill it.)"
      ]
     },
     "metadata": {},
     "output_type": "display_data"
    },
    {
     "data": {
      "text/html": [
       "\n",
       "      <iframe id=\"tensorboard-frame-364619e6be2ce53a\" width=\"100%\" height=\"800\" frameborder=\"0\">\n",
       "      </iframe>\n",
       "      <script>\n",
       "        (function() {\n",
       "          const frame = document.getElementById(\"tensorboard-frame-364619e6be2ce53a\");\n",
       "          const url = new URL(\"/\", window.location);\n",
       "          const port = 6006;\n",
       "          if (port) {\n",
       "            url.port = port;\n",
       "          }\n",
       "          frame.src = url;\n",
       "        })();\n",
       "      </script>\n",
       "    "
      ],
      "text/plain": [
       "<IPython.core.display.HTML object>"
      ]
     },
     "metadata": {},
     "output_type": "display_data"
    }
   ],
   "source": [
    "%load_ext tensorboard\n",
    "%tensorboard --logdir logs"
   ]
  },
  {
   "cell_type": "code",
   "execution_count": 112,
   "metadata": {},
   "outputs": [],
   "source": [
    "neuron_num=[50,100]\n",
    "conv_layer=[3]\n",
    "dense_layer=[20]"
   ]
  },
  {
   "cell_type": "code",
   "execution_count": 114,
   "metadata": {},
   "outputs": [
    {
     "name": "stdout",
     "output_type": "stream",
     "text": [
      "Epoch 1/10\n",
      " 2/31 [>.............................] - ETA: 28s - loss: 0.6930 - accuracy: 0.5938WARNING:tensorflow:Callbacks method `on_train_batch_end` is slow compared to the batch time (batch time: 0.3702s vs `on_train_batch_end` time: 1.5925s). Check your callbacks.\n",
      "31/31 [==============================] - 13s 405ms/step - loss: 0.6935 - accuracy: 0.4879 - val_loss: 0.6930 - val_accuracy: 0.5403\n",
      "Epoch 2/10\n",
      "31/31 [==============================] - 11s 356ms/step - loss: 0.6931 - accuracy: 0.5040 - val_loss: 0.6937 - val_accuracy: 0.4597\n",
      "Epoch 3/10\n",
      "31/31 [==============================] - 10s 320ms/step - loss: 0.6930 - accuracy: 0.5121 - val_loss: 0.6940 - val_accuracy: 0.4597\n",
      "Epoch 4/10\n",
      "31/31 [==============================] - 11s 343ms/step - loss: 0.6930 - accuracy: 0.5121 - val_loss: 0.6943 - val_accuracy: 0.4597\n",
      "Epoch 5/10\n",
      "31/31 [==============================] - 10s 330ms/step - loss: 0.6930 - accuracy: 0.5121 - val_loss: 0.6948 - val_accuracy: 0.4597\n",
      "Epoch 6/10\n",
      "31/31 [==============================] - 10s 336ms/step - loss: 0.6929 - accuracy: 0.5121 - val_loss: 0.6949 - val_accuracy: 0.4597\n",
      "Epoch 7/10\n",
      "31/31 [==============================] - 11s 344ms/step - loss: 0.6929 - accuracy: 0.5121 - val_loss: 0.6947 - val_accuracy: 0.4597\n",
      "Epoch 8/10\n",
      "31/31 [==============================] - 10s 337ms/step - loss: 0.6929 - accuracy: 0.5121 - val_loss: 0.6949 - val_accuracy: 0.4597\n",
      "Epoch 9/10\n",
      "31/31 [==============================] - 10s 327ms/step - loss: 0.6929 - accuracy: 0.5121 - val_loss: 0.6953 - val_accuracy: 0.4597\n",
      "Epoch 10/10\n",
      "31/31 [==============================] - 11s 345ms/step - loss: 0.6929 - accuracy: 0.5121 - val_loss: 0.6951 - val_accuracy: 0.4597\n",
      "Epoch 1/10\n",
      " 2/31 [>.............................] - ETA: 31s - loss: 0.6932 - accuracy: 0.5625WARNING:tensorflow:Callbacks method `on_train_batch_end` is slow compared to the batch time (batch time: 0.7226s vs `on_train_batch_end` time: 1.4404s). Check your callbacks.\n",
      "31/31 [==============================] - 27s 873ms/step - loss: 0.6935 - accuracy: 0.4879 - val_loss: 0.6933 - val_accuracy: 0.4597\n",
      "Epoch 2/10\n",
      "31/31 [==============================] - 25s 798ms/step - loss: 0.6931 - accuracy: 0.4859 - val_loss: 0.6939 - val_accuracy: 0.4597\n",
      "Epoch 3/10\n",
      "31/31 [==============================] - 23s 754ms/step - loss: 0.6930 - accuracy: 0.5121 - val_loss: 0.6945 - val_accuracy: 0.4597\n",
      "Epoch 4/10\n",
      "31/31 [==============================] - 23s 752ms/step - loss: 0.6930 - accuracy: 0.5121 - val_loss: 0.6947 - val_accuracy: 0.4597\n",
      "Epoch 5/10\n",
      "31/31 [==============================] - 23s 737ms/step - loss: 0.6930 - accuracy: 0.5121 - val_loss: 0.6944 - val_accuracy: 0.4597\n",
      "Epoch 6/10\n",
      "31/31 [==============================] - 23s 745ms/step - loss: 0.6931 - accuracy: 0.5121 - val_loss: 0.6950 - val_accuracy: 0.4597\n",
      "Epoch 7/10\n",
      "31/31 [==============================] - 24s 762ms/step - loss: 0.6930 - accuracy: 0.5121 - val_loss: 0.6955 - val_accuracy: 0.4597\n",
      "Epoch 8/10\n",
      "31/31 [==============================] - 23s 738ms/step - loss: 0.6930 - accuracy: 0.5121 - val_loss: 0.6948 - val_accuracy: 0.4597\n",
      "Epoch 9/10\n",
      "31/31 [==============================] - 22s 718ms/step - loss: 0.6929 - accuracy: 0.5121 - val_loss: 0.6949 - val_accuracy: 0.4597\n",
      "Epoch 10/10\n",
      "31/31 [==============================] - 22s 722ms/step - loss: 0.6929 - accuracy: 0.5121 - val_loss: 0.6948 - val_accuracy: 0.4597\n"
     ]
    }
   ],
   "source": [
    "for d in dense_layer:\n",
    "    for n in neuron_num:\n",
    "        for c in conv_layer:\n",
    "            model=Sequential()\n",
    "            name=\"Project-FaceMask-Real-2-Tuning-2conv-{}-dense--{}neuron-{}-{}\".format(c,d,n,int(time.time()))\n",
    "            model.add(Conv2D(n,(3,3),input_shape=data.shape[1:]))\n",
    "            model.add(Activation('relu'))\n",
    "            model.add(MaxPooling2D(pool_size=(2,2)))\n",
    "            for nothing in range(c):\n",
    "                model.add(Conv2D(n,(3,3)))\n",
    "                model.add(Activation('relu'))\n",
    "                model.add(MaxPooling2D(pool_size=(2,2)))\n",
    "\n",
    "            model.add(Flatten())\n",
    "            model.add(Dropout(0.5))\n",
    "            for nothing in range(d):\n",
    "                model.add(Dense(d,activation='relu'))\n",
    "            model.add(Dense(2,activation='softmax'))\n",
    "            tensorboard= TensorBoard(log_dir=\"logs\\{}\".format(name))\n",
    "            model.compile(loss='categorical_crossentropy',optimizer='adam',metrics=['accuracy'])\n",
    "            model.fit(train_data,train_target,epochs=10,validation_split=0.2,callbacks=[tensorboard])"
   ]
  },
  {
   "cell_type": "code",
   "execution_count": 4,
   "metadata": {},
   "outputs": [
    {
     "name": "stdout",
     "output_type": "stream",
     "text": [
      "The tensorboard extension is already loaded. To reload it, use:\n",
      "  %reload_ext tensorboard\n"
     ]
    },
    {
     "data": {
      "text/plain": [
       "Reusing TensorBoard on port 6006 (pid 11408), started 2 days, 10:27:13 ago. (Use '!kill 11408' to kill it.)"
      ]
     },
     "metadata": {},
     "output_type": "display_data"
    },
    {
     "data": {
      "text/html": [
       "\n",
       "      <iframe id=\"tensorboard-frame-522f0579149958ec\" width=\"100%\" height=\"800\" frameborder=\"0\">\n",
       "      </iframe>\n",
       "      <script>\n",
       "        (function() {\n",
       "          const frame = document.getElementById(\"tensorboard-frame-522f0579149958ec\");\n",
       "          const url = new URL(\"/\", window.location);\n",
       "          const port = 6006;\n",
       "          if (port) {\n",
       "            url.port = port;\n",
       "          }\n",
       "          frame.src = url;\n",
       "        })();\n",
       "      </script>\n",
       "    "
      ],
      "text/plain": [
       "<IPython.core.display.HTML object>"
      ]
     },
     "metadata": {},
     "output_type": "display_data"
    }
   ],
   "source": [
    "%load_ext tensorboard\n",
    "%tensorboard --logdir logs"
   ]
  },
  {
   "cell_type": "code",
   "execution_count": 17,
   "metadata": {},
   "outputs": [],
   "source": [
    "neuron_num=[500]\n",
    "conv_layer=[3]\n",
    "dense_layer=[50]"
   ]
  },
  {
   "cell_type": "code",
   "execution_count": 128,
   "metadata": {},
   "outputs": [
    {
     "name": "stdout",
     "output_type": "stream",
     "text": [
      "Epoch 1/10\n",
      "31/31 [==============================] - 244s 8s/step - loss: 0.6933 - accuracy: 0.4919 - val_loss: 0.6941 - val_accuracy: 0.4597\n",
      "Epoch 2/10\n",
      "31/31 [==============================] - 242s 8s/step - loss: 0.6932 - accuracy: 0.5121 - val_loss: 0.6946 - val_accuracy: 0.4597\n",
      "Epoch 3/10\n",
      "31/31 [==============================] - 239s 8s/step - loss: 0.6932 - accuracy: 0.5101 - val_loss: 0.6929 - val_accuracy: 0.5403\n",
      "Epoch 4/10\n",
      "31/31 [==============================] - 242s 8s/step - loss: 0.6935 - accuracy: 0.4899 - val_loss: 0.6944 - val_accuracy: 0.4597\n",
      "Epoch 5/10\n",
      "31/31 [==============================] - 241s 8s/step - loss: 0.6934 - accuracy: 0.5121 - val_loss: 0.6941 - val_accuracy: 0.4597\n",
      "Epoch 6/10\n",
      "31/31 [==============================] - 252s 8s/step - loss: 0.6932 - accuracy: 0.5121 - val_loss: 0.6952 - val_accuracy: 0.4597\n",
      "Epoch 7/10\n",
      "31/31 [==============================] - 243s 8s/step - loss: 0.6932 - accuracy: 0.5121 - val_loss: 0.6957 - val_accuracy: 0.4597\n",
      "Epoch 8/10\n",
      "31/31 [==============================] - 247s 8s/step - loss: 0.6930 - accuracy: 0.5121 - val_loss: 0.6953 - val_accuracy: 0.4597\n",
      "Epoch 9/10\n",
      "31/31 [==============================] - 252s 8s/step - loss: 0.6930 - accuracy: 0.5121 - val_loss: 0.6950 - val_accuracy: 0.4597\n",
      "Epoch 10/10\n",
      "31/31 [==============================] - 245s 8s/step - loss: 0.6930 - accuracy: 0.5121 - val_loss: 0.6953 - val_accuracy: 0.4597\n"
     ]
    }
   ],
   "source": [
    "for d in dense_layer:\n",
    "    for n in neuron_num:\n",
    "        for c in conv_layer:\n",
    "            model=Sequential()\n",
    "            name=\"Project-FaceMask-Real-BIG-Tuning-2conv-{}-dense--{}neuron-{}-{}\".format(c,d,n,int(time.time()))\n",
    "            model.add(Conv2D(n,(3,3),input_shape=data.shape[1:]))\n",
    "            model.add(Activation('relu'))\n",
    "            model.add(MaxPooling2D(pool_size=(2,2)))\n",
    "            for nothing in range(c):\n",
    "                model.add(Conv2D(n,(3,3)))\n",
    "                model.add(Activation('relu'))\n",
    "                model.add(MaxPooling2D(pool_size=(2,2)))\n",
    "\n",
    "            model.add(Flatten())\n",
    "            model.add(Dropout(0.5))\n",
    "            for nothing in range(d):\n",
    "                model.add(Dense(d,activation='relu'))\n",
    "            model.add(Dense(2,activation='softmax'))\n",
    "            tensorboard= TensorBoard(log_dir=\"logs\\{}\".format(name))\n",
    "            model.compile(loss='categorical_crossentropy',optimizer='adam',metrics=['accuracy'])\n",
    "            model.fit(train_data,train_target,epochs=10,validation_split=0.2,callbacks=[tensorboard])"
   ]
  },
  {
   "cell_type": "code",
   "execution_count": 5,
   "metadata": {},
   "outputs": [
    {
     "name": "stdout",
     "output_type": "stream",
     "text": [
      "The tensorboard extension is already loaded. To reload it, use:\n",
      "  %reload_ext tensorboard\n"
     ]
    },
    {
     "data": {
      "text/plain": [
       "Reusing TensorBoard on port 6006 (pid 11408), started 2 days, 10:27:35 ago. (Use '!kill 11408' to kill it.)"
      ]
     },
     "metadata": {},
     "output_type": "display_data"
    },
    {
     "data": {
      "text/html": [
       "\n",
       "      <iframe id=\"tensorboard-frame-af000fb35104a338\" width=\"100%\" height=\"800\" frameborder=\"0\">\n",
       "      </iframe>\n",
       "      <script>\n",
       "        (function() {\n",
       "          const frame = document.getElementById(\"tensorboard-frame-af000fb35104a338\");\n",
       "          const url = new URL(\"/\", window.location);\n",
       "          const port = 6006;\n",
       "          if (port) {\n",
       "            url.port = port;\n",
       "          }\n",
       "          frame.src = url;\n",
       "        })();\n",
       "      </script>\n",
       "    "
      ],
      "text/plain": [
       "<IPython.core.display.HTML object>"
      ]
     },
     "metadata": {},
     "output_type": "display_data"
    }
   ],
   "source": [
    "%load_ext tensorboard\n",
    "%tensorboard --logdir logs"
   ]
  },
  {
   "cell_type": "code",
   "execution_count": 17,
   "metadata": {},
   "outputs": [],
   "source": [
    "from tensorflow.keras.models import load_model\n",
    "model = load_model('model-017.model')\n",
    "face_clsfr=cv2.CascadeClassifier('haarcascade_frontalface_default.xml')\n",
    "\n",
    "source=cv2.VideoCapture(0)\n",
    "labels_dict={1:'NO MASK'}\n",
    "color_dict={1:(255,255,255)}"
   ]
  },
  {
   "cell_type": "code",
   "execution_count": 18,
   "metadata": {},
   "outputs": [],
   "source": [
    "while(True):\n",
    "\n",
    "    ret,img=source.read()\n",
    "    gray=cv2.cvtColor(img,cv2.COLOR_BGR2GRAY)\n",
    "    faces=face_clsfr.detectMultiScale(gray,1.3,5)  \n",
    "\n",
    "    for x,y,w,h in faces:\n",
    "    \n",
    "        face_img=gray[y:y+w,x:x+w]\n",
    "        resized=cv2.resize(face_img,(100,100))\n",
    "        normalized=resized/255.0\n",
    "        reshaped=np.reshape(normalized,(1,100,100,1))\n",
    "        result=model.predict(reshaped)\n",
    "\n",
    "        label=np.argmax(result,axis=1)[0]\n",
    "      \n",
    "        cv2.rectangle(img,(x,y),(x+w,y+h),color_dict[label],2)\n",
    "        cv2.rectangle(img,(x,y-40),(x+w,y),color_dict[label],-1)\n",
    "        cv2.putText(img, labels_dict[label], (x, y-10),cv2.FONT_HERSHEY_SIMPLEX,0.8,(0,0,0),2)\n",
    "        \n",
    "        \n",
    "    cv2.imshow('LIVE',img)\n",
    "    key=cv2.waitKey(1)\n",
    "    \n",
    "    if(key==27):\n",
    "        break\n",
    "        \n",
    "cv2.destroyAllWindows()\n",
    "source.release()"
   ]
  },
  {
   "cell_type": "code",
   "execution_count": 169,
   "metadata": {},
   "outputs": [
    {
     "data": {
      "text/plain": [
       "'NO MASK'"
      ]
     },
     "execution_count": 169,
     "metadata": {},
     "output_type": "execute_result"
    }
   ],
   "source": [
    "labels_dict[1]"
   ]
  },
  {
   "cell_type": "code",
   "execution_count": 4,
   "metadata": {},
   "outputs": [
    {
     "data": {
      "text/plain": [
       "<matplotlib.image.AxesImage at 0x2cc227fafd0>"
      ]
     },
     "execution_count": 4,
     "metadata": {},
     "output_type": "execute_result"
    },
    {
     "data": {
      "image/png": "[encoded data removed]",
      "text/plain": [
       "<Figure size 432x288 with 1 Axes>"
      ]
     },
     "metadata": {
      "needs_background": "light"
     },
     "output_type": "display_data"
    }
   ],
   "source": [
    "plt.imshow(data[4],cmap=\"gray\")"
   ]
  },
  {
   "cell_type": "code",
   "execution_count": null,
   "metadata": {},
   "outputs": [],
   "source": []
  }
 ],
 "metadata": {
  "colab": {
   "name": "Untitled1.ipynb",
   "provenance": []
  },
  "kernelspec": {
   "display_name": "Python 3",
   "language": "python",
   "name": "python3"
  },
  "language_info": {
   "codemirror_mode": {
    "name": "ipython",
    "version": 3
   },
   "file_extension": ".py",
   "mimetype": "text/x-python",
   "name": "python",
   "nbconvert_exporter": "python",
   "pygments_lexer": "ipython3",
   "version": "3.8.5"
  }
 },
 "nbformat": 4,
 "nbformat_minor": 1
}
